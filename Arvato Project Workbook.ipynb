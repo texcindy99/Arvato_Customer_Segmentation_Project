{
 "cells": [
  {
   "cell_type": "markdown",
   "metadata": {},
   "source": [
    "# Capstone Project: Create a Customer Segmentation Report for Arvato Financial Services\n",
    "\n",
    "In this project, you will analyze demographics data for customers of a mail-order sales company in Germany, comparing it against demographics information for the general population. You'll use unsupervised learning techniques to perform customer segmentation, identifying the parts of the population that best describe the core customer base of the company. Then, you'll apply what you've learned on a third dataset with demographics information for targets of a marketing campaign for the company, and use a model to predict which individuals are most likely to convert into becoming customers for the company. The data that you will use has been provided by our partners at Bertelsmann Arvato Analytics, and represents a real-life data science task.\n",
    "\n",
    "If you completed the first term of this program, you will be familiar with the first part of this project, from the unsupervised learning project. The versions of those two datasets used in this project will include many more features and has not been pre-cleaned. You are also free to choose whatever approach you'd like to analyzing the data rather than follow pre-determined steps. In your work on this project, make sure that you carefully document your steps and decisions, since your main deliverable for this project will be a blog post reporting your findings."
   ]
  },
  {
   "cell_type": "code",
   "execution_count": 1,
   "metadata": {},
   "outputs": [
    {
     "ename": "ModuleNotFoundError",
     "evalue": "No module named 'xgboost'",
     "output_type": "error",
     "traceback": [
      "\u001b[0;31m---------------------------------------------------------------------------\u001b[0m",
      "\u001b[0;31mModuleNotFoundError\u001b[0m                       Traceback (most recent call last)",
      "\u001b[0;32m<ipython-input-1-505888d707be>\u001b[0m in \u001b[0;36m<module>\u001b[0;34m()\u001b[0m\n\u001b[1;32m      8\u001b[0m \u001b[0;32mfrom\u001b[0m \u001b[0msklearn\u001b[0m\u001b[0;34m.\u001b[0m\u001b[0mcluster\u001b[0m \u001b[0;32mimport\u001b[0m \u001b[0mKMeans\u001b[0m\u001b[0;34m\u001b[0m\u001b[0m\n\u001b[1;32m      9\u001b[0m \u001b[0;32mfrom\u001b[0m \u001b[0msklearn\u001b[0m\u001b[0;34m.\u001b[0m\u001b[0msvm\u001b[0m \u001b[0;32mimport\u001b[0m \u001b[0mLinearSVC\u001b[0m\u001b[0;34m\u001b[0m\u001b[0m\n\u001b[0;32m---> 10\u001b[0;31m \u001b[0;32mfrom\u001b[0m \u001b[0mxgboost\u001b[0m\u001b[0;34m.\u001b[0m\u001b[0msklearn\u001b[0m \u001b[0;32mimport\u001b[0m \u001b[0mXGBRegressor\u001b[0m\u001b[0;34m\u001b[0m\u001b[0m\n\u001b[0m\u001b[1;32m     11\u001b[0m \u001b[0;32mfrom\u001b[0m \u001b[0msklearn\u001b[0m\u001b[0;34m.\u001b[0m\u001b[0mpipeline\u001b[0m \u001b[0;32mimport\u001b[0m \u001b[0mPipeline\u001b[0m\u001b[0;34m\u001b[0m\u001b[0m\n\u001b[1;32m     12\u001b[0m \u001b[0;32mfrom\u001b[0m \u001b[0msklearn\u001b[0m\u001b[0;34m.\u001b[0m\u001b[0mmodel_selection\u001b[0m \u001b[0;32mimport\u001b[0m \u001b[0mGridSearchCV\u001b[0m\u001b[0;34m\u001b[0m\u001b[0m\n",
      "\u001b[0;31mModuleNotFoundError\u001b[0m: No module named 'xgboost'"
     ]
    }
   ],
   "source": [
    "# import libraries here; add more as necessary\n",
    "import numpy as np\n",
    "import pandas as pd\n",
    "import matplotlib.pyplot as plt\n",
    "import seaborn as sns\n",
    "from sklearn.decomposition import PCA as PCA\n",
    "from sklearn.preprocessing import StandardScaler \n",
    "from sklearn.cluster import KMeans\n",
    "from sklearn.svm import LinearSVC\n",
    "import xgboost as xgb\n",
    "from xgboost.sklearn import XGBRegressor\n",
    "from sklearn.pipeline import Pipeline\n",
    "from sklearn.model_selection import GridSearchCV\n",
    "\n",
    "from sklearn.linear_model import LogisticRegression\n",
    "from sklearn.metrics import classification_report, confusion_matrix\n",
    "from sklearn.metrics import roc_auc_score\n",
    "import itertools\n",
    "\n",
    "# magic word for producing visualizations in notebook\n",
    "%matplotlib inline"
   ]
  },
  {
   "cell_type": "code",
   "execution_count": 6,
   "metadata": {},
   "outputs": [
    {
     "ename": "NameError",
     "evalue": "name 'xgb' is not defined",
     "output_type": "error",
     "traceback": [
      "\u001b[0;31m---------------------------------------------------------------------------\u001b[0m",
      "\u001b[0;31mNameError\u001b[0m                                 Traceback (most recent call last)",
      "\u001b[0;32m<ipython-input-6-fd45b0a8d599>\u001b[0m in \u001b[0;36m<module>\u001b[0;34m()\u001b[0m\n\u001b[0;32m----> 1\u001b[0;31m \u001b[0mmodel\u001b[0m \u001b[0;34m=\u001b[0m \u001b[0mxgb\u001b[0m\u001b[0;34m.\u001b[0m\u001b[0mXGBRegressor\u001b[0m\u001b[0;34m(\u001b[0m\u001b[0;34m)\u001b[0m\u001b[0;34m\u001b[0m\u001b[0m\n\u001b[0m",
      "\u001b[0;31mNameError\u001b[0m: name 'xgb' is not defined"
     ]
    }
   ],
   "source": [
    "model = xgb.XGBRegressor()"
   ]
  },
  {
   "cell_type": "markdown",
   "metadata": {},
   "source": [
    "## Part 0: Get to Know the Data\n",
    "\n",
    "There are four data files associated with this project:\n",
    "\n",
    "- `Udacity_AZDIAS_052018.csv`: Demographics data for the general population of Germany; 891 211 persons (rows) x 366 features (columns).\n",
    "- `Udacity_CUSTOMERS_052018.csv`: Demographics data for customers of a mail-order company; 191 652 persons (rows) x 369 features (columns).\n",
    "- `Udacity_MAILOUT_052018_TRAIN.csv`: Demographics data for individuals who were targets of a marketing campaign; 42 982 persons (rows) x 367 (columns).\n",
    "- `Udacity_MAILOUT_052018_TEST.csv`: Demographics data for individuals who were targets of a marketing campaign; 42 833 persons (rows) x 366 (columns).\n",
    "\n",
    "Each row of the demographics files represents a single person, but also includes information outside of individuals, including information about their household, building, and neighborhood. Use the information from the first two files to figure out how customers (\"CUSTOMERS\") are similar to or differ from the general population at large (\"AZDIAS\"), then use your analysis to make predictions on the other two files (\"MAILOUT\"), predicting which recipients are most likely to become a customer for the mail-order company.\n",
    "\n",
    "The \"CUSTOMERS\" file contains three extra columns ('CUSTOMER_GROUP', 'ONLINE_PURCHASE', and 'PRODUCT_GROUP'), which provide broad information about the customers depicted in the file. The original \"MAILOUT\" file included one additional column, \"RESPONSE\", which indicated whether or not each recipient became a customer of the company. For the \"TRAIN\" subset, this column has been retained, but in the \"TEST\" subset it has been removed; it is against that withheld column that your final predictions will be assessed in the Kaggle competition.\n",
    "\n",
    "Otherwise, all of the remaining columns are the same between the three data files. For more information about the columns depicted in the files, you can refer to two Excel spreadsheets provided in the workspace. [One of them](./DIAS Information Levels - Attributes 2017.xlsx) is a top-level list of attributes and descriptions, organized by informational category. [The other](./DIAS Attributes - Values 2017.xlsx) is a detailed mapping of data values for each feature in alphabetical order.\n",
    "\n",
    "In the below cell, we've provided some initial code to load in the first two datasets. Note for all of the `.csv` data files in this project that they're semicolon (`;`) delimited, so an additional argument in the [`read_csv()`](https://pandas.pydata.org/pandas-docs/stable/generated/pandas.read_csv.html) call has been included to read in the data properly. Also, considering the size of the datasets, it may take some time for them to load completely.\n",
    "\n",
    "You'll notice when the data is loaded in that a warning message will immediately pop up. Before you really start digging into the modeling and analysis, you're going to need to perform some cleaning. Take some time to browse the structure of the data and look over the informational spreadsheets to understand the data values. Make some decisions on which features to keep, which features to drop, and if any revisions need to be made on data formats. It'll be a good idea to create a function with pre-processing steps, since you'll need to clean all of the datasets before you work with them."
   ]
  },
  {
   "cell_type": "code",
   "execution_count": 4,
   "metadata": {},
   "outputs": [],
   "source": [
    "# load in the data\n",
    "types_dict = {'CAMEO_DEUG_2015': object, 'CAMEO_INTL_2015': object}\n",
    "azdias = pd.read_csv('../../data/Term2/capstone/arvato_data/Udacity_AZDIAS_052018.csv', sep=';', dtype=types_dict)\n",
    "customers = pd.read_csv('../../data/Term2/capstone/arvato_data/Udacity_CUSTOMERS_052018.csv', sep=';', dtype=types_dict)"
   ]
  },
  {
   "cell_type": "code",
   "execution_count": 5,
   "metadata": {
    "scrolled": true
   },
   "outputs": [
    {
     "name": "stdout",
     "output_type": "stream",
     "text": [
      "azdias data shape:  (891221, 366)\n",
      "customers data shape:  (191652, 369)\n"
     ]
    }
   ],
   "source": [
    "print('azdias data shape: ', azdias.shape)\n",
    "print('customers data shape: ', customers.shape)"
   ]
  },
  {
   "cell_type": "code",
   "execution_count": 7,
   "metadata": {},
   "outputs": [
    {
     "name": "stdout",
     "output_type": "stream",
     "text": [
      "CAMEO_DEUG_2015    float64\n",
      "CAMEO_INTL_2015    float64\n",
      "dtype: object\n",
      "CAMEO_DEUG_2015    float64\n",
      "CAMEO_INTL_2015    float64\n",
      "dtype: object\n"
     ]
    }
   ],
   "source": [
    "azdias.iloc[:,18] = pd.to_numeric(azdias.iloc[:,18], errors='coerce')\n",
    "azdias.iloc[:,19] = pd.to_numeric(azdias.iloc[:,19], errors='coerce')\n",
    "customers.iloc[:,18] = pd.to_numeric(customers.iloc[:,18], errors='coerce')\n",
    "customers.iloc[:,19] = pd.to_numeric(customers.iloc[:,19], errors='coerce')\n",
    "print(azdias.dtypes[18:20])\n",
    "print(customers.dtypes[18:20])"
   ]
  },
  {
   "cell_type": "markdown",
   "metadata": {},
   "source": [
    "#### Explore azdias data"
   ]
  },
  {
   "cell_type": "code",
   "execution_count": 12,
   "metadata": {},
   "outputs": [
    {
     "name": "stdout",
     "output_type": "stream",
     "text": [
      "Column No. with >50% NaN:  (array([  4,   5,   6,   7, 100, 300]),)\n"
     ]
    }
   ],
   "source": [
    "# Check NaN values\n",
    "perc_nan = azdias.isnull().mean()\n",
    "print('Column No. with >50% NaN: ', np.where(perc_nan>0.5))"
   ]
  },
  {
   "cell_type": "code",
   "execution_count": 15,
   "metadata": {},
   "outputs": [
    {
     "data": {
      "text/html": [
       "<div>\n",
       "<style scoped>\n",
       "    .dataframe tbody tr th:only-of-type {\n",
       "        vertical-align: middle;\n",
       "    }\n",
       "\n",
       "    .dataframe tbody tr th {\n",
       "        vertical-align: top;\n",
       "    }\n",
       "\n",
       "    .dataframe thead th {\n",
       "        text-align: right;\n",
       "    }\n",
       "</style>\n",
       "<table border=\"1\" class=\"dataframe\">\n",
       "  <thead>\n",
       "    <tr style=\"text-align: right;\">\n",
       "      <th></th>\n",
       "      <th>ALTER_KIND1</th>\n",
       "      <th>ALTER_KIND2</th>\n",
       "      <th>ALTER_KIND3</th>\n",
       "      <th>ALTER_KIND4</th>\n",
       "      <th>EXTSEL992</th>\n",
       "      <th>KK_KUNDENTYP</th>\n",
       "    </tr>\n",
       "  </thead>\n",
       "  <tbody>\n",
       "    <tr>\n",
       "      <th>0</th>\n",
       "      <td>NaN</td>\n",
       "      <td>NaN</td>\n",
       "      <td>NaN</td>\n",
       "      <td>NaN</td>\n",
       "      <td>NaN</td>\n",
       "      <td>NaN</td>\n",
       "    </tr>\n",
       "    <tr>\n",
       "      <th>1</th>\n",
       "      <td>NaN</td>\n",
       "      <td>NaN</td>\n",
       "      <td>NaN</td>\n",
       "      <td>NaN</td>\n",
       "      <td>NaN</td>\n",
       "      <td>NaN</td>\n",
       "    </tr>\n",
       "    <tr>\n",
       "      <th>2</th>\n",
       "      <td>NaN</td>\n",
       "      <td>NaN</td>\n",
       "      <td>NaN</td>\n",
       "      <td>NaN</td>\n",
       "      <td>14.0</td>\n",
       "      <td>NaN</td>\n",
       "    </tr>\n",
       "    <tr>\n",
       "      <th>3</th>\n",
       "      <td>NaN</td>\n",
       "      <td>NaN</td>\n",
       "      <td>NaN</td>\n",
       "      <td>NaN</td>\n",
       "      <td>31.0</td>\n",
       "      <td>NaN</td>\n",
       "    </tr>\n",
       "    <tr>\n",
       "      <th>4</th>\n",
       "      <td>NaN</td>\n",
       "      <td>NaN</td>\n",
       "      <td>NaN</td>\n",
       "      <td>NaN</td>\n",
       "      <td>NaN</td>\n",
       "      <td>1.0</td>\n",
       "    </tr>\n",
       "  </tbody>\n",
       "</table>\n",
       "</div>"
      ],
      "text/plain": [
       "   ALTER_KIND1  ALTER_KIND2  ALTER_KIND3  ALTER_KIND4  EXTSEL992  KK_KUNDENTYP\n",
       "0          NaN          NaN          NaN          NaN        NaN           NaN\n",
       "1          NaN          NaN          NaN          NaN        NaN           NaN\n",
       "2          NaN          NaN          NaN          NaN       14.0           NaN\n",
       "3          NaN          NaN          NaN          NaN       31.0           NaN\n",
       "4          NaN          NaN          NaN          NaN        NaN           1.0"
      ]
     },
     "execution_count": 15,
     "metadata": {},
     "output_type": "execute_result"
    }
   ],
   "source": [
    "azdias.iloc[:,[4,   5,   6,   7, 100, 300]].head()"
   ]
  },
  {
   "cell_type": "code",
   "execution_count": 13,
   "metadata": {},
   "outputs": [
    {
     "data": {
      "image/png": "[encoded data removed]",
      "text/plain": [
       "<matplotlib.figure.Figure at 0x7f694d1eb940>"
      ]
     },
     "metadata": {
      "needs_background": "light"
     },
     "output_type": "display_data"
    }
   ],
   "source": [
    "plt.bar(np.arange(len(perc_nan)), perc_nan);\n",
    "plt.title('Percentage of NaN in each azdias data column');\n",
    "plt.xlabel('Column index');"
   ]
  },
  {
   "cell_type": "code",
   "execution_count": 18,
   "metadata": {},
   "outputs": [
    {
     "data": {
      "text/plain": [
       "count    237068.000000\n",
       "mean         33.338392\n",
       "std          14.537408\n",
       "min           1.000000\n",
       "25%          23.000000\n",
       "50%          34.000000\n",
       "75%          43.000000\n",
       "max          56.000000\n",
       "Name: EXTSEL992, dtype: float64"
      ]
     },
     "execution_count": 18,
     "metadata": {},
     "output_type": "execute_result"
    }
   ],
   "source": [
    "azdias.EXTSEL992.describe()"
   ]
  },
  {
   "cell_type": "code",
   "execution_count": 24,
   "metadata": {},
   "outputs": [
    {
     "data": {
      "text/plain": [
       "(362, 0, 4)"
      ]
     },
     "execution_count": 24,
     "metadata": {},
     "output_type": "execute_result"
    }
   ],
   "source": [
    "num_azd = azdias.select_dtypes(include=['int','float64']).columns\n",
    "bool_azd = azdias.select_dtypes(include=['bool']).columns\n",
    "cat_azd = azdias.select_dtypes(include=['object']).columns\n",
    "len(num_azd), len(bool_azd), len(cat_azd)"
   ]
  },
  {
   "cell_type": "code",
   "execution_count": 33,
   "metadata": {},
   "outputs": [
    {
     "data": {
      "text/html": [
       "<div>\n",
       "<style scoped>\n",
       "    .dataframe tbody tr th:only-of-type {\n",
       "        vertical-align: middle;\n",
       "    }\n",
       "\n",
       "    .dataframe tbody tr th {\n",
       "        vertical-align: top;\n",
       "    }\n",
       "\n",
       "    .dataframe thead th {\n",
       "        text-align: right;\n",
       "    }\n",
       "</style>\n",
       "<table border=\"1\" class=\"dataframe\">\n",
       "  <thead>\n",
       "    <tr style=\"text-align: right;\">\n",
       "      <th></th>\n",
       "      <th>CAMEO_DEU_2015</th>\n",
       "      <th>D19_LETZTER_KAUF_BRANCHE</th>\n",
       "      <th>EINGEFUEGT_AM</th>\n",
       "      <th>OST_WEST_KZ</th>\n",
       "    </tr>\n",
       "  </thead>\n",
       "  <tbody>\n",
       "    <tr>\n",
       "      <th>0</th>\n",
       "      <td>NaN</td>\n",
       "      <td>NaN</td>\n",
       "      <td>NaN</td>\n",
       "      <td>NaN</td>\n",
       "    </tr>\n",
       "    <tr>\n",
       "      <th>1</th>\n",
       "      <td>8A</td>\n",
       "      <td>NaN</td>\n",
       "      <td>1992-02-10 00:00:00</td>\n",
       "      <td>W</td>\n",
       "    </tr>\n",
       "    <tr>\n",
       "      <th>2</th>\n",
       "      <td>4C</td>\n",
       "      <td>D19_UNBEKANNT</td>\n",
       "      <td>1992-02-12 00:00:00</td>\n",
       "      <td>W</td>\n",
       "    </tr>\n",
       "    <tr>\n",
       "      <th>3</th>\n",
       "      <td>2A</td>\n",
       "      <td>D19_UNBEKANNT</td>\n",
       "      <td>1997-04-21 00:00:00</td>\n",
       "      <td>W</td>\n",
       "    </tr>\n",
       "    <tr>\n",
       "      <th>4</th>\n",
       "      <td>6B</td>\n",
       "      <td>D19_SCHUHE</td>\n",
       "      <td>1992-02-12 00:00:00</td>\n",
       "      <td>W</td>\n",
       "    </tr>\n",
       "  </tbody>\n",
       "</table>\n",
       "</div>"
      ],
      "text/plain": [
       "  CAMEO_DEU_2015 D19_LETZTER_KAUF_BRANCHE        EINGEFUEGT_AM OST_WEST_KZ\n",
       "0            NaN                      NaN                  NaN         NaN\n",
       "1             8A                      NaN  1992-02-10 00:00:00           W\n",
       "2             4C            D19_UNBEKANNT  1992-02-12 00:00:00           W\n",
       "3             2A            D19_UNBEKANNT  1997-04-21 00:00:00           W\n",
       "4             6B               D19_SCHUHE  1992-02-12 00:00:00           W"
      ]
     },
     "execution_count": 33,
     "metadata": {},
     "output_type": "execute_result"
    }
   ],
   "source": [
    "azdias.loc[:,cat_azd].head()"
   ]
  },
  {
   "cell_type": "code",
   "execution_count": 36,
   "metadata": {},
   "outputs": [
    {
     "data": {
      "image/png": "[encoded data removed]",
      "text/plain": [
       "<matplotlib.figure.Figure at 0x7f694cab0588>"
      ]
     },
     "metadata": {
      "needs_background": "light"
     },
     "output_type": "display_data"
    }
   ],
   "source": [
    "count_vals = azdias.D19_LETZTER_KAUF_BRANCHE.value_counts()\n",
    "(count_vals[:10]/customers.shape[0]).plot(kind='bar');\n",
    "plt.title('D19_LETZTER_KAUF_BRANCHE');\n",
    "plt.tight_layout();"
   ]
  },
  {
   "cell_type": "code",
   "execution_count": 5,
   "metadata": {},
   "outputs": [
    {
     "data": {
      "text/plain": [
       "910220.0"
      ]
     },
     "execution_count": 5,
     "metadata": {},
     "output_type": "execute_result"
    }
   ],
   "source": [
    "num_azd.iloc[1].max()"
   ]
  },
  {
   "cell_type": "code",
   "execution_count": 6,
   "metadata": {},
   "outputs": [],
   "source": [
    "range_num_azd = num_azd.max() - num_azd.min()"
   ]
  },
  {
   "cell_type": "code",
   "execution_count": 8,
   "metadata": {},
   "outputs": [
    {
     "data": {
      "text/plain": [
       "0"
      ]
     },
     "execution_count": 8,
     "metadata": {},
     "output_type": "execute_result"
    }
   ],
   "source": [
    "sum(range_num_azd==0)"
   ]
  },
  {
   "cell_type": "markdown",
   "metadata": {},
   "source": [
    "#### Explore customers data"
   ]
  },
  {
   "cell_type": "code",
   "execution_count": 21,
   "metadata": {},
   "outputs": [
    {
     "name": "stdout",
     "output_type": "stream",
     "text": [
      "Column No. with >50% NaN:  (array([  4,   5,   6,   7, 300]),)\n"
     ]
    }
   ],
   "source": [
    "# Check NaN values\n",
    "perc_na = customers.isnull().mean()\n",
    "print('Column No. with >50% NaN: ', np.where(perc_na>0.5))"
   ]
  },
  {
   "cell_type": "code",
   "execution_count": 35,
   "metadata": {},
   "outputs": [
    {
     "data": {
      "image/png": "[encoded data removed]",
      "text/plain": [
       "<matplotlib.figure.Figure at 0x7fd7585acef0>"
      ]
     },
     "metadata": {
      "needs_background": "light"
     },
     "output_type": "display_data"
    }
   ],
   "source": [
    "plt.bar(np.arange(len(perc_na)), perc_na);\n",
    "plt.title('Percentage of NaN in each customers data column');\n",
    "plt.xlabel('Column index');"
   ]
  },
  {
   "cell_type": "code",
   "execution_count": 19,
   "metadata": {},
   "outputs": [
    {
     "data": {
      "text/plain": [
       "count    106369.000000\n",
       "mean         38.418599\n",
       "std          13.689466\n",
       "min           1.000000\n",
       "25%          29.000000\n",
       "50%          36.000000\n",
       "75%          53.000000\n",
       "max          56.000000\n",
       "Name: EXTSEL992, dtype: float64"
      ]
     },
     "execution_count": 19,
     "metadata": {},
     "output_type": "execute_result"
    }
   ],
   "source": [
    "customers.EXTSEL992.describe()"
   ]
  },
  {
   "cell_type": "code",
   "execution_count": 20,
   "metadata": {},
   "outputs": [
    {
     "data": {
      "text/plain": [
       "count    79715.000000\n",
       "mean         3.421803\n",
       "std          1.623890\n",
       "min          1.000000\n",
       "25%          2.000000\n",
       "50%          3.000000\n",
       "75%          5.000000\n",
       "max          6.000000\n",
       "Name: KK_KUNDENTYP, dtype: float64"
      ]
     },
     "execution_count": 20,
     "metadata": {},
     "output_type": "execute_result"
    }
   ],
   "source": [
    "customers.KK_KUNDENTYP.describe()"
   ]
  },
  {
   "cell_type": "code",
   "execution_count": 9,
   "metadata": {},
   "outputs": [
    {
     "data": {
      "text/plain": [
       "((191652, 361), (191652, 0), (191652, 8))"
      ]
     },
     "execution_count": 9,
     "metadata": {},
     "output_type": "execute_result"
    }
   ],
   "source": [
    "num_cust = customers.select_dtypes(include=['int','float64'])\n",
    "bool_cust = customers.select_dtypes(include=['bool'])\n",
    "cat_cust = customers.select_dtypes(include=['object'])\n",
    "num_cust.shape, bool_cust.shape, cat_cust.shape"
   ]
  },
  {
   "cell_type": "code",
   "execution_count": 10,
   "metadata": {},
   "outputs": [],
   "source": [
    "range_num_cust = num_cust.max() - num_cust.min()"
   ]
  },
  {
   "cell_type": "code",
   "execution_count": 11,
   "metadata": {},
   "outputs": [
    {
     "data": {
      "text/plain": [
       "0"
      ]
     },
     "execution_count": 11,
     "metadata": {},
     "output_type": "execute_result"
    }
   ],
   "source": [
    "sum(range_num_cust==0)"
   ]
  },
  {
   "cell_type": "code",
   "execution_count": 27,
   "metadata": {},
   "outputs": [
    {
     "data": {
      "text/plain": [
       "Index(['CAMEO_DEU_2015', 'CAMEO_DEUG_2015', 'CAMEO_INTL_2015',\n",
       "       'D19_LETZTER_KAUF_BRANCHE', 'EINGEFUEGT_AM', 'OST_WEST_KZ',\n",
       "       'PRODUCT_GROUP', 'CUSTOMER_GROUP'],\n",
       "      dtype='object')"
      ]
     },
     "execution_count": 27,
     "metadata": {},
     "output_type": "execute_result"
    }
   ],
   "source": [
    "cat_cust.columns"
   ]
  },
  {
   "cell_type": "code",
   "execution_count": 38,
   "metadata": {},
   "outputs": [
    {
     "data": {
      "text/plain": [
       "array(['ONLINE_PURCHASE'], dtype=object)"
      ]
     },
     "execution_count": 38,
     "metadata": {},
     "output_type": "execute_result"
    }
   ],
   "source": [
    "np.setdiff1d(np.array(num_cust.columns), np.intersect1d(np.array(num_cust.columns), np.array(num_azd.columns)))"
   ]
  },
  {
   "cell_type": "code",
   "execution_count": 40,
   "metadata": {},
   "outputs": [
    {
     "data": {
      "text/plain": [
       "count    191652.000000\n",
       "mean          0.090247\n",
       "std           0.286536\n",
       "min           0.000000\n",
       "25%           0.000000\n",
       "50%           0.000000\n",
       "75%           0.000000\n",
       "max           1.000000\n",
       "Name: ONLINE_PURCHASE, dtype: float64"
      ]
     },
     "execution_count": 40,
     "metadata": {},
     "output_type": "execute_result"
    }
   ],
   "source": [
    "customers['ONLINE_PURCHASE'].describe()"
   ]
  },
  {
   "cell_type": "code",
   "execution_count": 23,
   "metadata": {},
   "outputs": [
    {
     "data": {
      "image/png": "[encoded data removed]",
      "text/plain": [
       "<matplotlib.figure.Figure at 0x7f5b8f5876a0>"
      ]
     },
     "metadata": {
      "needs_background": "light"
     },
     "output_type": "display_data"
    }
   ],
   "source": [
    "col_names = ['CUSTOMER_GROUP', 'ONLINE_PURCHASE', 'PRODUCT_GROUP']\n",
    "i=1\n",
    "for col_name in col_names:\n",
    "    plt.subplot(1,3,i)\n",
    "    count_vals = customers[col_name].value_counts()\n",
    "\n",
    "    (count_vals[:10]/customers.shape[0]).plot(kind='bar');\n",
    "    plt.title(col_name);\n",
    "    plt.tight_layout();\n",
    "    i +=1"
   ]
  },
  {
   "cell_type": "markdown",
   "metadata": {},
   "source": [
    "## Part 1: Customer Segmentation Report\n",
    "\n",
    "The main bulk of your analysis will come in this part of the project. Here, you should use unsupervised learning techniques to describe the relationship between the demographics of the company's existing customers and the general population of Germany. By the end of this part, you should be able to describe parts of the general population that are more likely to be part of the mail-order company's main customer base, and which parts of the general population are less so."
   ]
  },
  {
   "cell_type": "markdown",
   "metadata": {},
   "source": [
    "#### Define function to load and clean data"
   ]
  },
  {
   "cell_type": "code",
   "execution_count": 4,
   "metadata": {},
   "outputs": [],
   "source": [
    "def load_and_clean_data(file_name):\n",
    "    '''\n",
    "    INPUT\n",
    "    file_name - csv file name\n",
    "    \n",
    "    OUTPUT \n",
    "    df - pandas dataframe \n",
    "    \n",
    "    This function load data from csv file to df and cleans df by the following steps:\n",
    "    1. Convert 2 columns from string to number\n",
    "    2. Drop 4 columns with 90% more NaNs and 1 datetime column\n",
    "    3. Fill NaNs in numeric columns with label of unknown\n",
    "    4. Encode category columns to numeric columns\n",
    "    \n",
    "    '''\n",
    "    # Load data from csv file\n",
    "    types_dict = {'CAMEO_DEUG_2015': object, 'CAMEO_INTL_2015': object}\n",
    "    df = pd.read_csv(file_name, sep=';', dtype=types_dict)\n",
    "    print('File loaded...')\n",
    "    print('data shape before cleaning: {}'.format(df.shape))\n",
    "    \n",
    "    # Convert two columns to numeric type\n",
    "    df.CAMEO_DEUG_2015 = pd.to_numeric(df.CAMEO_DEUG_2015, errors='coerce')\n",
    "    df.CAMEO_INTL_2015 = pd.to_numeric(df.CAMEO_INTL_2015, errors='coerce')\n",
    "\n",
    "    # Drop columns with more than 90% of missing values and some less relevant category columns\n",
    "    df = df.drop(['ALTER_KIND1','ALTER_KIND2','ALTER_KIND3','ALTER_KIND4','EINGEFUEGT_AM'], axis=1)\n",
    "    \n",
    "    # Map NaN to Unknown label 10 in the following columns\n",
    "    col_unknown_10 = ['D19_BANKEN_DATUM', 'D19_BANKEN_OFFLINE_DATUM', 'D19_BANKEN_ONLINE_DATUM', 'D19_GESAMT_ONLINE_DATUM',\n",
    "                       'D19_TELKO_DATUM', 'D19_TELKO_ONLINE_DATUM', 'D19_VERSAND_DATUM', \n",
    "                       'D19_VERSAND_OFFLINE_DATUM', 'D19_VERSAND_ONLINE_DATUM'];\n",
    "    for col in col_unknown_10:\n",
    "        df[col].fillna(10, inplace=True) \n",
    " \n",
    "    # Map NaN and -1 to Unknown label 0 in the following columns\n",
    "    col_name0 = ['ALTERSKATEGORIE_GROB','ANREDE_KZ','GEBAEUDETYP','HH_EINKOMMEN_SCORE','KBA05_BAUMAX',\n",
    "                 'KBA05_GBZ','NATIONALITAET_KZ','PRAEGENDE_JUGENDJAHRE','REGIOTYP','TITEL_KZ',\n",
    "                 'WOHNDAUER_2008','W_KEIT_KIND_HH','KKK']\n",
    "    for col in col_name0:\n",
    "        df[df[col]==-1] = 0\n",
    "        df[col].fillna(0, inplace=True)\n",
    "    \n",
    "    # Map NaN and -1 to Unknown label 9 in the following columns\n",
    "    indx00 = np.where(df.columns.str.match('KBA05_CCM1'))[0][0]\n",
    "    indx01 = np.where(df.columns.str.match('KBA05_FRAU'))[0][0]+1                  \n",
    "    indx10 = np.where(df.columns.str.match('KBA05_HERST1'))[0][0]\n",
    "    indx11 = np.where(df.columns.str.match('KBA05_ZUL4'))[0][0]+1                                 \n",
    "    indx20 = np.where(df.columns.str.match('SEMIO_DOM'))[0][0]\n",
    "    indx21 = np.where(df.columns.str.match('SEMIO_VERT'))[0][0]+1\n",
    "                  \n",
    "    indx3 = np.where(df.columns.str.match('D19_KONSUMTYP'))[0][0]                 \n",
    "    indx4 = np.where(df.columns.str.match('RELAT_AB'))[0][0]\n",
    "    indx5 = np.where(df.columns.str.match('ZABEOTYP'))[0][0]\n",
    "                 \n",
    "    col_indx = np.concatenate((np.arange(indx00,indx01),np.arange(indx10,indx11),np.arange(indx20,indx21),\n",
    "                               np.arange(indx3,indx3+1),np.arange(indx4,indx4+1),np.arange(indx5,indx5+1)))\n",
    "    col_name9 = df.columns[col_indx]\n",
    "    for col in col_name9:\n",
    "        df[df[col]==-1] = 9\n",
    "        df[col].fillna(9, inplace=True)\n",
    "    \n",
    "    # Replace NaN in the rest of numeric columns with min()\n",
    "    num_vars = df.select_dtypes(include=['float', 'int']).columns\n",
    "    for col in num_vars:\n",
    "        df[col].fillna((df[col].min()), inplace=True)  \n",
    "    print('NaN in numeric columns filled...')\n",
    "          \n",
    "    # Dummy the categorical variables\n",
    "    cat_vars = df.select_dtypes(include=['object']).copy().columns\n",
    "    for var in  cat_vars:\n",
    "        # for each cat add dummy var, drop original column\n",
    "        df = pd.concat([df.drop(var, axis=1), pd.get_dummies(df[var], prefix=var, prefix_sep='_', drop_first=True)], axis=1)\n",
    "        \n",
    "    print('File cleaned.')\n",
    "    print('data shape after cleaning: {}'.format(df.shape))\n",
    "    \n",
    "    return df"
   ]
  },
  {
   "cell_type": "markdown",
   "metadata": {},
   "source": [
    "### 1.1 Run clustering for azdias data"
   ]
  },
  {
   "cell_type": "markdown",
   "metadata": {},
   "source": [
    "**Load and clean \"azdias\" data**"
   ]
  },
  {
   "cell_type": "code",
   "execution_count": 3,
   "metadata": {},
   "outputs": [
    {
     "name": "stdout",
     "output_type": "stream",
     "text": [
      "File loaded...\n",
      "5 columns are dropped...\n",
      "NaN in numeric columns filled...\n",
      "Rows with NaN droppped...\n",
      "File cleaned.\n"
     ]
    }
   ],
   "source": [
    "azdias_clean = load_and_clean_data('../../data/Term2/capstone/arvato_data/Udacity_AZDIAS_052018.csv')"
   ]
  },
  {
   "cell_type": "code",
   "execution_count": 6,
   "metadata": {},
   "outputs": [
    {
     "data": {
      "text/plain": [
       "(615341, 437)"
      ]
     },
     "execution_count": 6,
     "metadata": {},
     "output_type": "execute_result"
    }
   ],
   "source": [
    "azdias_clean.shape"
   ]
  },
  {
   "cell_type": "markdown",
   "metadata": {},
   "source": [
    "**Perform PCA to reduce features before clustering**"
   ]
  },
  {
   "cell_type": "code",
   "execution_count": 5,
   "metadata": {},
   "outputs": [
    {
     "name": "stdout",
     "output_type": "stream",
     "text": [
      "Standardized data...\n"
     ]
    }
   ],
   "source": [
    "# Standardize data for PCA\n",
    "azdias_std = StandardScaler().fit_transform(azdias_clean)\n",
    "print('Standardized data...')\n",
    "# Perform PCA\n",
    "pca = PCA().fit(azdias_std)\n",
    "print('PCA is done.')"
   ]
  },
  {
   "cell_type": "markdown",
   "metadata": {},
   "source": [
    "**Choose minimum number of features to perserve 90% of data characterization**"
   ]
  },
  {
   "cell_type": "code",
   "execution_count": 15,
   "metadata": {},
   "outputs": [
    {
     "data": {
      "image/png": "[encoded data removed]",
      "text/plain": [
       "<matplotlib.figure.Figure at 0x7f9f8d58a160>"
      ]
     },
     "metadata": {
      "needs_background": "light"
     },
     "output_type": "display_data"
    }
   ],
   "source": [
    "# Plot PCA results\n",
    "plt.figure(figsize=(6,4))\n",
    "plt.plot(np.cumsum(pca.explained_variance_ratio_), color='k', lw=2)\n",
    "plt.xlabel('Number of components')\n",
    "plt.ylabel('Total explained variance')\n",
    "plt.xlim(0, 437)\n",
    "plt.yticks(np.arange(0, 1.1, 0.1))\n",
    "plt.axvline(230, c='b')\n",
    "plt.axhline(0.9, c='r')\n",
    "plt.show();"
   ]
  },
  {
   "cell_type": "markdown",
   "metadata": {},
   "source": [
    "#### Get transformed azdias data with 230 principal features"
   ]
  },
  {
   "cell_type": "code",
   "execution_count": 6,
   "metadata": {},
   "outputs": [],
   "source": [
    "# Perform PCA with 230 features\n",
    "pca90 = PCA(n_components=230)\n",
    "principalComponents = pca90.fit_transform(azdias_std) \n",
    "azdias_principal= pd.DataFrame(data = principalComponents)\n",
    "# finalDf = pd.concat([principalDf, finalDf[['species']]], axis = 1) "
   ]
  },
  {
   "cell_type": "code",
   "execution_count": 16,
   "metadata": {},
   "outputs": [
    {
     "data": {
      "text/plain": [
       "(615341, 230)"
      ]
     },
     "execution_count": 16,
     "metadata": {},
     "output_type": "execute_result"
    }
   ],
   "source": [
    "azdias_principal.shape"
   ]
  },
  {
   "cell_type": "markdown",
   "metadata": {},
   "source": [
    "**Choose a reasonable cluser number**\n",
    "\n",
    "Run k-means to cluster the neighborhood into 2~20 clusters. Calculate the sum of squared distance to find the optimal cluster number."
   ]
  },
  {
   "cell_type": "code",
   "execution_count": 3,
   "metadata": {},
   "outputs": [],
   "source": [
    "def choose_kmean_number(df):\n",
    "    '''\n",
    "    INPUT \n",
    "    df - pandas dataframe \n",
    "    \n",
    "    OUTPUT\n",
    "    None\n",
    "    \n",
    "    This function display elbow plot for k-mean clustering on df\n",
    "    \n",
    "    '''\n",
    "    Sum_of_squared_distances = []\n",
    "    for k in range(2,20,2):\n",
    "        # run k-means clustering\n",
    "        kmeans = KMeans(n_clusters=k, random_state=0).fit(df)\n",
    "        # Record sum of squared distances of samples to the nearest cluster center\n",
    "        Sum_of_squared_distances.append(kmeans.inertia_)\n",
    "\n",
    "    K = range(2,20,2)\n",
    "    plt.plot(K, Sum_of_squared_distances, 'bx-')\n",
    "    plt.xlabel('k',fontsize=14)\n",
    "    plt.ylabel('Sum_of_squared_distances',fontsize=14)\n",
    "    plt.title('Elbow method for optimal k',fontsize=14)\n",
    "    plt.show()"
   ]
  },
  {
   "cell_type": "code",
   "execution_count": null,
   "metadata": {},
   "outputs": [],
   "source": [
    "choose_kmean_number(azdias_principal)"
   ]
  },
  {
   "cell_type": "markdown",
   "metadata": {},
   "source": [
    "#### Run k-means clusering for 10 clusters"
   ]
  },
  {
   "cell_type": "code",
   "execution_count": 5,
   "metadata": {},
   "outputs": [],
   "source": [
    "def kmean_clustering(k, df_pca, df):\n",
    "    '''\n",
    "    INPUT \n",
    "    k - number of clustering\n",
    "    df_pca - pandas dataframe with reduced features after PCA\n",
    "    df - original pandas dataframe \n",
    "    \n",
    "    OUTPUT\n",
    "    df - original pandas dataframe with cluster label added to the first column\n",
    "    \n",
    "    This function groups df_pca into k clusters and add cluster labels to the original df\n",
    "    \n",
    "    '''\n",
    "    # run k-means clustering\n",
    "    kmeans = KMeans(n_clusters=k, random_state=0).fit(df_pca)\n",
    "\n",
    "    # add clustering labels to df\n",
    "    df.insert(0, 'Cluster Label', kmeans.labels_)\n",
    "\n",
    "    return df"
   ]
  },
  {
   "cell_type": "markdown",
   "metadata": {},
   "source": [
    "Let's add the cluster label to dataframe"
   ]
  },
  {
   "cell_type": "code",
   "execution_count": 17,
   "metadata": {},
   "outputs": [
    {
     "data": {
      "text/html": [
       "<div>\n",
       "<style scoped>\n",
       "    .dataframe tbody tr th:only-of-type {\n",
       "        vertical-align: middle;\n",
       "    }\n",
       "\n",
       "    .dataframe tbody tr th {\n",
       "        vertical-align: top;\n",
       "    }\n",
       "\n",
       "    .dataframe thead th {\n",
       "        text-align: right;\n",
       "    }\n",
       "</style>\n",
       "<table border=\"1\" class=\"dataframe\">\n",
       "  <thead>\n",
       "    <tr style=\"text-align: right;\">\n",
       "      <th></th>\n",
       "      <th>Cluster Label</th>\n",
       "      <th>LNR</th>\n",
       "      <th>AGER_TYP</th>\n",
       "      <th>AKT_DAT_KL</th>\n",
       "      <th>ALTER_HH</th>\n",
       "      <th>ALTERSKATEGORIE_FEIN</th>\n",
       "      <th>ANZ_HAUSHALTE_AKTIV</th>\n",
       "      <th>ANZ_HH_TITEL</th>\n",
       "      <th>ANZ_KINDER</th>\n",
       "      <th>ANZ_PERSONEN</th>\n",
       "      <th>...</th>\n",
       "      <th>D19_LETZTER_KAUF_BRANCHE_D19_TECHNIK</th>\n",
       "      <th>D19_LETZTER_KAUF_BRANCHE_D19_TELKO_MOBILE</th>\n",
       "      <th>D19_LETZTER_KAUF_BRANCHE_D19_TELKO_REST</th>\n",
       "      <th>D19_LETZTER_KAUF_BRANCHE_D19_TIERARTIKEL</th>\n",
       "      <th>D19_LETZTER_KAUF_BRANCHE_D19_UNBEKANNT</th>\n",
       "      <th>D19_LETZTER_KAUF_BRANCHE_D19_VERSAND_REST</th>\n",
       "      <th>D19_LETZTER_KAUF_BRANCHE_D19_VERSICHERUNGEN</th>\n",
       "      <th>D19_LETZTER_KAUF_BRANCHE_D19_VOLLSORTIMENT</th>\n",
       "      <th>D19_LETZTER_KAUF_BRANCHE_D19_WEIN_FEINKOST</th>\n",
       "      <th>OST_WEST_KZ_W</th>\n",
       "    </tr>\n",
       "  </thead>\n",
       "  <tbody>\n",
       "    <tr>\n",
       "      <th>2</th>\n",
       "      <td>9</td>\n",
       "      <td>910225</td>\n",
       "      <td>-1</td>\n",
       "      <td>9.0</td>\n",
       "      <td>17.0</td>\n",
       "      <td>17.000000</td>\n",
       "      <td>10.0</td>\n",
       "      <td>0.0</td>\n",
       "      <td>0.0</td>\n",
       "      <td>1.0</td>\n",
       "      <td>...</td>\n",
       "      <td>0</td>\n",
       "      <td>0</td>\n",
       "      <td>0</td>\n",
       "      <td>0</td>\n",
       "      <td>1</td>\n",
       "      <td>0</td>\n",
       "      <td>0</td>\n",
       "      <td>0</td>\n",
       "      <td>0</td>\n",
       "      <td>1</td>\n",
       "    </tr>\n",
       "    <tr>\n",
       "      <th>3</th>\n",
       "      <td>5</td>\n",
       "      <td>910226</td>\n",
       "      <td>2</td>\n",
       "      <td>1.0</td>\n",
       "      <td>13.0</td>\n",
       "      <td>13.000000</td>\n",
       "      <td>1.0</td>\n",
       "      <td>0.0</td>\n",
       "      <td>0.0</td>\n",
       "      <td>0.0</td>\n",
       "      <td>...</td>\n",
       "      <td>0</td>\n",
       "      <td>0</td>\n",
       "      <td>0</td>\n",
       "      <td>0</td>\n",
       "      <td>1</td>\n",
       "      <td>0</td>\n",
       "      <td>0</td>\n",
       "      <td>0</td>\n",
       "      <td>0</td>\n",
       "      <td>1</td>\n",
       "    </tr>\n",
       "    <tr>\n",
       "      <th>4</th>\n",
       "      <td>0</td>\n",
       "      <td>910241</td>\n",
       "      <td>-1</td>\n",
       "      <td>1.0</td>\n",
       "      <td>20.0</td>\n",
       "      <td>14.000000</td>\n",
       "      <td>3.0</td>\n",
       "      <td>0.0</td>\n",
       "      <td>0.0</td>\n",
       "      <td>4.0</td>\n",
       "      <td>...</td>\n",
       "      <td>0</td>\n",
       "      <td>0</td>\n",
       "      <td>0</td>\n",
       "      <td>0</td>\n",
       "      <td>0</td>\n",
       "      <td>0</td>\n",
       "      <td>0</td>\n",
       "      <td>0</td>\n",
       "      <td>0</td>\n",
       "      <td>1</td>\n",
       "    </tr>\n",
       "    <tr>\n",
       "      <th>5</th>\n",
       "      <td>5</td>\n",
       "      <td>910244</td>\n",
       "      <td>3</td>\n",
       "      <td>1.0</td>\n",
       "      <td>10.0</td>\n",
       "      <td>10.000000</td>\n",
       "      <td>5.0</td>\n",
       "      <td>0.0</td>\n",
       "      <td>0.0</td>\n",
       "      <td>1.0</td>\n",
       "      <td>...</td>\n",
       "      <td>0</td>\n",
       "      <td>0</td>\n",
       "      <td>0</td>\n",
       "      <td>0</td>\n",
       "      <td>0</td>\n",
       "      <td>0</td>\n",
       "      <td>0</td>\n",
       "      <td>0</td>\n",
       "      <td>0</td>\n",
       "      <td>1</td>\n",
       "    </tr>\n",
       "    <tr>\n",
       "      <th>6</th>\n",
       "      <td>9</td>\n",
       "      <td>910248</td>\n",
       "      <td>-1</td>\n",
       "      <td>9.0</td>\n",
       "      <td>0.0</td>\n",
       "      <td>13.700717</td>\n",
       "      <td>4.0</td>\n",
       "      <td>0.0</td>\n",
       "      <td>0.0</td>\n",
       "      <td>1.0</td>\n",
       "      <td>...</td>\n",
       "      <td>0</td>\n",
       "      <td>0</td>\n",
       "      <td>0</td>\n",
       "      <td>0</td>\n",
       "      <td>1</td>\n",
       "      <td>0</td>\n",
       "      <td>0</td>\n",
       "      <td>0</td>\n",
       "      <td>0</td>\n",
       "      <td>1</td>\n",
       "    </tr>\n",
       "  </tbody>\n",
       "</table>\n",
       "<p>5 rows × 438 columns</p>\n",
       "</div>"
      ],
      "text/plain": [
       "   Cluster Label     LNR  AGER_TYP  AKT_DAT_KL  ALTER_HH  \\\n",
       "2              9  910225        -1         9.0      17.0   \n",
       "3              5  910226         2         1.0      13.0   \n",
       "4              0  910241        -1         1.0      20.0   \n",
       "5              5  910244         3         1.0      10.0   \n",
       "6              9  910248        -1         9.0       0.0   \n",
       "\n",
       "   ALTERSKATEGORIE_FEIN  ANZ_HAUSHALTE_AKTIV  ANZ_HH_TITEL  ANZ_KINDER  \\\n",
       "2             17.000000                 10.0           0.0         0.0   \n",
       "3             13.000000                  1.0           0.0         0.0   \n",
       "4             14.000000                  3.0           0.0         0.0   \n",
       "5             10.000000                  5.0           0.0         0.0   \n",
       "6             13.700717                  4.0           0.0         0.0   \n",
       "\n",
       "   ANZ_PERSONEN      ...        D19_LETZTER_KAUF_BRANCHE_D19_TECHNIK  \\\n",
       "2           1.0      ...                                           0   \n",
       "3           0.0      ...                                           0   \n",
       "4           4.0      ...                                           0   \n",
       "5           1.0      ...                                           0   \n",
       "6           1.0      ...                                           0   \n",
       "\n",
       "   D19_LETZTER_KAUF_BRANCHE_D19_TELKO_MOBILE  \\\n",
       "2                                          0   \n",
       "3                                          0   \n",
       "4                                          0   \n",
       "5                                          0   \n",
       "6                                          0   \n",
       "\n",
       "   D19_LETZTER_KAUF_BRANCHE_D19_TELKO_REST  \\\n",
       "2                                        0   \n",
       "3                                        0   \n",
       "4                                        0   \n",
       "5                                        0   \n",
       "6                                        0   \n",
       "\n",
       "   D19_LETZTER_KAUF_BRANCHE_D19_TIERARTIKEL  \\\n",
       "2                                         0   \n",
       "3                                         0   \n",
       "4                                         0   \n",
       "5                                         0   \n",
       "6                                         0   \n",
       "\n",
       "   D19_LETZTER_KAUF_BRANCHE_D19_UNBEKANNT  \\\n",
       "2                                       1   \n",
       "3                                       1   \n",
       "4                                       0   \n",
       "5                                       0   \n",
       "6                                       1   \n",
       "\n",
       "   D19_LETZTER_KAUF_BRANCHE_D19_VERSAND_REST  \\\n",
       "2                                          0   \n",
       "3                                          0   \n",
       "4                                          0   \n",
       "5                                          0   \n",
       "6                                          0   \n",
       "\n",
       "   D19_LETZTER_KAUF_BRANCHE_D19_VERSICHERUNGEN  \\\n",
       "2                                            0   \n",
       "3                                            0   \n",
       "4                                            0   \n",
       "5                                            0   \n",
       "6                                            0   \n",
       "\n",
       "   D19_LETZTER_KAUF_BRANCHE_D19_VOLLSORTIMENT  \\\n",
       "2                                           0   \n",
       "3                                           0   \n",
       "4                                           0   \n",
       "5                                           0   \n",
       "6                                           0   \n",
       "\n",
       "   D19_LETZTER_KAUF_BRANCHE_D19_WEIN_FEINKOST  OST_WEST_KZ_W  \n",
       "2                                           0              1  \n",
       "3                                           0              1  \n",
       "4                                           0              1  \n",
       "5                                           0              1  \n",
       "6                                           0              1  \n",
       "\n",
       "[5 rows x 438 columns]"
      ]
     },
     "execution_count": 17,
     "metadata": {},
     "output_type": "execute_result"
    }
   ],
   "source": [
    "azdias = kmean_clustering(kclusters=10, azdias_principal, azdias)\n",
    "azdias.head()"
   ]
  },
  {
   "cell_type": "markdown",
   "metadata": {},
   "source": [
    "#### Check each cluster"
   ]
  },
  {
   "cell_type": "code",
   "execution_count": 20,
   "metadata": {},
   "outputs": [
    {
     "data": {
      "text/plain": [
       "Cluster Label\n",
       "0     55977\n",
       "1     59325\n",
       "2    100207\n",
       "3     54451\n",
       "4     43019\n",
       "5     97662\n",
       "6      7170\n",
       "7     75080\n",
       "8     40034\n",
       "9     82416\n",
       "Name: LNR, dtype: int64"
      ]
     },
     "execution_count": 20,
     "metadata": {},
     "output_type": "execute_result"
    }
   ],
   "source": [
    "azdias.groupby('Cluster Label').LNR.count()"
   ]
  },
  {
   "cell_type": "markdown",
   "metadata": {},
   "source": [
    "### 1.2 Run clustering for customers data"
   ]
  },
  {
   "cell_type": "markdown",
   "metadata": {},
   "source": [
    "#### Load and clean \"customers\" data"
   ]
  },
  {
   "cell_type": "code",
   "execution_count": 24,
   "metadata": {},
   "outputs": [
    {
     "name": "stdout",
     "output_type": "stream",
     "text": [
      "File loaded...\n",
      "5 columns are dropped...\n",
      "NaN in numeric columns filled...\n",
      "Rows with NaN droppped...\n",
      "File cleaned.\n"
     ]
    }
   ],
   "source": [
    "customers_clean = load_and_clean_data('../../data/Term2/capstone/arvato_data/Udacity_CUSTOMERS_052018.csv')"
   ]
  },
  {
   "cell_type": "code",
   "execution_count": 26,
   "metadata": {},
   "outputs": [
    {
     "data": {
      "text/plain": [
       "(140168, 441)"
      ]
     },
     "execution_count": 26,
     "metadata": {},
     "output_type": "execute_result"
    }
   ],
   "source": [
    "customers_clean.shape"
   ]
  },
  {
   "cell_type": "markdown",
   "metadata": {},
   "source": [
    "#### Perform PCA to reduce features before clustering"
   ]
  },
  {
   "cell_type": "code",
   "execution_count": 119,
   "metadata": {},
   "outputs": [],
   "source": [
    "def choose_principal_components(df, percent):\n",
    "    '''\n",
    "    INPUT \n",
    "    df - pandas dataframe \n",
    "    percent - percentage of data variance to be perserved after pca\n",
    "    \n",
    "    OUTPUT\n",
    "    df_principal - ordered principal components of df\n",
    "    num_pca - minimum number of principal components that perserves more than \"percent\" of variance of df\n",
    "    pca - PCA model\n",
    "    \n",
    "    This function perform PCA on df and return pca model and principal components in order\n",
    "    and plot accumulated percentage of variance explained by each of the principal components.\n",
    "    \n",
    "    '''\n",
    "    # Standardize data for PCA\n",
    "    df_std = StandardScaler().fit_transform(df)\n",
    "    print('Standardized data...')\n",
    "    \n",
    "    # Perform PCA\n",
    "    pca = PCA(n_components=df.shape[1]) \n",
    "    principal_components = pca.fit_transform(df_std) \n",
    "    df_principal= pd.DataFrame(data = principal_components)\n",
    "    print('PCA is done.')\n",
    "    \n",
    "    # Accumulate percentage of variance explained by each of the principal components.\n",
    "    perc_pca = np.cumsum(pca.explained_variance_ratio_)\n",
    "    # Minimum number of principal components that perserves more than 90% of variance of df\n",
    "    num_pca = np.where(perc_pca>=percent)[0][0]\n",
    "    print('Keep {} features.'.format(num_pca))\n",
    "    \n",
    "    # Plot PCA results\n",
    "    plt.figure(figsize=(6,4))\n",
    "    plt.plot(perc_pca, color='k', lw=2)\n",
    "    plt.xlabel('Number of components')\n",
    "    plt.ylabel('Total explained variance')\n",
    "    plt.xlim(0, df.shape[1])\n",
    "    plt.yticks(np.arange(0, 1.1, 0.1))\n",
    "    plt.axvline(num_pca, c='b')\n",
    "    plt.axhline(0.9, c='r')\n",
    "    plt.show();\n",
    "    \n",
    "    return df_principal.iloc[:,0:num_pca], num_pca, pca(n_components=num_pca)"
   ]
  },
  {
   "cell_type": "markdown",
   "metadata": {},
   "source": [
    "#### Choose minimum number of features to perserve 90% of data characterization"
   ]
  },
  {
   "cell_type": "code",
   "execution_count": null,
   "metadata": {},
   "outputs": [],
   "source": [
    "customers_principal, num_pca, pca = choose_principal_components(customers_clean)"
   ]
  },
  {
   "cell_type": "markdown",
   "metadata": {},
   "source": [
    "#### Choose a reasonable cluser number"
   ]
  },
  {
   "cell_type": "code",
   "execution_count": 33,
   "metadata": {},
   "outputs": [
    {
     "data": {
      "image/png": "[encoded data removed]",
      "text/plain": [
       "<matplotlib.figure.Figure at 0x7f9f90052710>"
      ]
     },
     "metadata": {
      "needs_background": "light"
     },
     "output_type": "display_data"
    }
   ],
   "source": [
    "choose_kmean_number(customers_principal)"
   ]
  },
  {
   "cell_type": "code",
   "execution_count": 34,
   "metadata": {},
   "outputs": [
    {
     "data": {
      "text/html": [
       "<div>\n",
       "<style scoped>\n",
       "    .dataframe tbody tr th:only-of-type {\n",
       "        vertical-align: middle;\n",
       "    }\n",
       "\n",
       "    .dataframe tbody tr th {\n",
       "        vertical-align: top;\n",
       "    }\n",
       "\n",
       "    .dataframe thead th {\n",
       "        text-align: right;\n",
       "    }\n",
       "</style>\n",
       "<table border=\"1\" class=\"dataframe\">\n",
       "  <thead>\n",
       "    <tr style=\"text-align: right;\">\n",
       "      <th></th>\n",
       "      <th>Cluster Label</th>\n",
       "      <th>LNR</th>\n",
       "      <th>AGER_TYP</th>\n",
       "      <th>AKT_DAT_KL</th>\n",
       "      <th>ALTER_HH</th>\n",
       "      <th>ALTERSKATEGORIE_FEIN</th>\n",
       "      <th>ANZ_HAUSHALTE_AKTIV</th>\n",
       "      <th>ANZ_HH_TITEL</th>\n",
       "      <th>ANZ_KINDER</th>\n",
       "      <th>ANZ_PERSONEN</th>\n",
       "      <th>...</th>\n",
       "      <th>D19_LETZTER_KAUF_BRANCHE_D19_TIERARTIKEL</th>\n",
       "      <th>D19_LETZTER_KAUF_BRANCHE_D19_UNBEKANNT</th>\n",
       "      <th>D19_LETZTER_KAUF_BRANCHE_D19_VERSAND_REST</th>\n",
       "      <th>D19_LETZTER_KAUF_BRANCHE_D19_VERSICHERUNGEN</th>\n",
       "      <th>D19_LETZTER_KAUF_BRANCHE_D19_VOLLSORTIMENT</th>\n",
       "      <th>D19_LETZTER_KAUF_BRANCHE_D19_WEIN_FEINKOST</th>\n",
       "      <th>OST_WEST_KZ_W</th>\n",
       "      <th>PRODUCT_GROUP_COSMETIC_AND_FOOD</th>\n",
       "      <th>PRODUCT_GROUP_FOOD</th>\n",
       "      <th>CUSTOMER_GROUP_SINGLE_BUYER</th>\n",
       "    </tr>\n",
       "  </thead>\n",
       "  <tbody>\n",
       "    <tr>\n",
       "      <th>0</th>\n",
       "      <td>9</td>\n",
       "      <td>9626</td>\n",
       "      <td>2</td>\n",
       "      <td>1.0</td>\n",
       "      <td>10.0</td>\n",
       "      <td>10.0</td>\n",
       "      <td>1.0</td>\n",
       "      <td>0.000000</td>\n",
       "      <td>0.0</td>\n",
       "      <td>2.0</td>\n",
       "      <td>...</td>\n",
       "      <td>0</td>\n",
       "      <td>1</td>\n",
       "      <td>0</td>\n",
       "      <td>0</td>\n",
       "      <td>0</td>\n",
       "      <td>0</td>\n",
       "      <td>1</td>\n",
       "      <td>1</td>\n",
       "      <td>0</td>\n",
       "      <td>0</td>\n",
       "    </tr>\n",
       "    <tr>\n",
       "      <th>2</th>\n",
       "      <td>9</td>\n",
       "      <td>143872</td>\n",
       "      <td>-1</td>\n",
       "      <td>1.0</td>\n",
       "      <td>6.0</td>\n",
       "      <td>0.0</td>\n",
       "      <td>1.0</td>\n",
       "      <td>0.000000</td>\n",
       "      <td>0.0</td>\n",
       "      <td>1.0</td>\n",
       "      <td>...</td>\n",
       "      <td>0</td>\n",
       "      <td>1</td>\n",
       "      <td>0</td>\n",
       "      <td>0</td>\n",
       "      <td>0</td>\n",
       "      <td>0</td>\n",
       "      <td>1</td>\n",
       "      <td>1</td>\n",
       "      <td>0</td>\n",
       "      <td>0</td>\n",
       "    </tr>\n",
       "    <tr>\n",
       "      <th>3</th>\n",
       "      <td>2</td>\n",
       "      <td>143873</td>\n",
       "      <td>1</td>\n",
       "      <td>1.0</td>\n",
       "      <td>8.0</td>\n",
       "      <td>8.0</td>\n",
       "      <td>0.0</td>\n",
       "      <td>0.067413</td>\n",
       "      <td>0.0</td>\n",
       "      <td>0.0</td>\n",
       "      <td>...</td>\n",
       "      <td>0</td>\n",
       "      <td>0</td>\n",
       "      <td>0</td>\n",
       "      <td>0</td>\n",
       "      <td>0</td>\n",
       "      <td>0</td>\n",
       "      <td>1</td>\n",
       "      <td>0</td>\n",
       "      <td>0</td>\n",
       "      <td>0</td>\n",
       "    </tr>\n",
       "    <tr>\n",
       "      <th>4</th>\n",
       "      <td>6</td>\n",
       "      <td>143874</td>\n",
       "      <td>-1</td>\n",
       "      <td>1.0</td>\n",
       "      <td>20.0</td>\n",
       "      <td>14.0</td>\n",
       "      <td>7.0</td>\n",
       "      <td>0.000000</td>\n",
       "      <td>0.0</td>\n",
       "      <td>4.0</td>\n",
       "      <td>...</td>\n",
       "      <td>0</td>\n",
       "      <td>0</td>\n",
       "      <td>0</td>\n",
       "      <td>0</td>\n",
       "      <td>0</td>\n",
       "      <td>0</td>\n",
       "      <td>1</td>\n",
       "      <td>0</td>\n",
       "      <td>1</td>\n",
       "      <td>0</td>\n",
       "    </tr>\n",
       "    <tr>\n",
       "      <th>5</th>\n",
       "      <td>7</td>\n",
       "      <td>143888</td>\n",
       "      <td>1</td>\n",
       "      <td>1.0</td>\n",
       "      <td>11.0</td>\n",
       "      <td>10.0</td>\n",
       "      <td>1.0</td>\n",
       "      <td>0.000000</td>\n",
       "      <td>0.0</td>\n",
       "      <td>2.0</td>\n",
       "      <td>...</td>\n",
       "      <td>0</td>\n",
       "      <td>0</td>\n",
       "      <td>0</td>\n",
       "      <td>0</td>\n",
       "      <td>0</td>\n",
       "      <td>0</td>\n",
       "      <td>1</td>\n",
       "      <td>1</td>\n",
       "      <td>0</td>\n",
       "      <td>0</td>\n",
       "    </tr>\n",
       "  </tbody>\n",
       "</table>\n",
       "<p>5 rows × 442 columns</p>\n",
       "</div>"
      ],
      "text/plain": [
       "   Cluster Label     LNR  AGER_TYP  AKT_DAT_KL  ALTER_HH  \\\n",
       "0              9    9626         2         1.0      10.0   \n",
       "2              9  143872        -1         1.0       6.0   \n",
       "3              2  143873         1         1.0       8.0   \n",
       "4              6  143874        -1         1.0      20.0   \n",
       "5              7  143888         1         1.0      11.0   \n",
       "\n",
       "   ALTERSKATEGORIE_FEIN  ANZ_HAUSHALTE_AKTIV  ANZ_HH_TITEL  ANZ_KINDER  \\\n",
       "0                  10.0                  1.0      0.000000         0.0   \n",
       "2                   0.0                  1.0      0.000000         0.0   \n",
       "3                   8.0                  0.0      0.067413         0.0   \n",
       "4                  14.0                  7.0      0.000000         0.0   \n",
       "5                  10.0                  1.0      0.000000         0.0   \n",
       "\n",
       "   ANZ_PERSONEN             ...               \\\n",
       "0           2.0             ...                \n",
       "2           1.0             ...                \n",
       "3           0.0             ...                \n",
       "4           4.0             ...                \n",
       "5           2.0             ...                \n",
       "\n",
       "   D19_LETZTER_KAUF_BRANCHE_D19_TIERARTIKEL  \\\n",
       "0                                         0   \n",
       "2                                         0   \n",
       "3                                         0   \n",
       "4                                         0   \n",
       "5                                         0   \n",
       "\n",
       "   D19_LETZTER_KAUF_BRANCHE_D19_UNBEKANNT  \\\n",
       "0                                       1   \n",
       "2                                       1   \n",
       "3                                       0   \n",
       "4                                       0   \n",
       "5                                       0   \n",
       "\n",
       "   D19_LETZTER_KAUF_BRANCHE_D19_VERSAND_REST  \\\n",
       "0                                          0   \n",
       "2                                          0   \n",
       "3                                          0   \n",
       "4                                          0   \n",
       "5                                          0   \n",
       "\n",
       "   D19_LETZTER_KAUF_BRANCHE_D19_VERSICHERUNGEN  \\\n",
       "0                                            0   \n",
       "2                                            0   \n",
       "3                                            0   \n",
       "4                                            0   \n",
       "5                                            0   \n",
       "\n",
       "   D19_LETZTER_KAUF_BRANCHE_D19_VOLLSORTIMENT  \\\n",
       "0                                           0   \n",
       "2                                           0   \n",
       "3                                           0   \n",
       "4                                           0   \n",
       "5                                           0   \n",
       "\n",
       "   D19_LETZTER_KAUF_BRANCHE_D19_WEIN_FEINKOST  OST_WEST_KZ_W  \\\n",
       "0                                           0              1   \n",
       "2                                           0              1   \n",
       "3                                           0              1   \n",
       "4                                           0              1   \n",
       "5                                           0              1   \n",
       "\n",
       "   PRODUCT_GROUP_COSMETIC_AND_FOOD  PRODUCT_GROUP_FOOD  \\\n",
       "0                                1                   0   \n",
       "2                                1                   0   \n",
       "3                                0                   0   \n",
       "4                                0                   1   \n",
       "5                                1                   0   \n",
       "\n",
       "   CUSTOMER_GROUP_SINGLE_BUYER  \n",
       "0                            0  \n",
       "2                            0  \n",
       "3                            0  \n",
       "4                            0  \n",
       "5                            0  \n",
       "\n",
       "[5 rows x 442 columns]"
      ]
     },
     "execution_count": 34,
     "metadata": {},
     "output_type": "execute_result"
    }
   ],
   "source": [
    "# customers = kmean_clustering(kclusters=10, customers_principal, customers)\n",
    "customers = kmeans.predict(customers_principal)\n",
    "# add clustering labels to dataframe\n",
    "customers.insert(0, 'Cluster Label', kmeans.labels_)\n",
    "customers.head()"
   ]
  },
  {
   "cell_type": "code",
   "execution_count": 35,
   "metadata": {},
   "outputs": [
    {
     "data": {
      "text/plain": [
       "Cluster Label\n",
       "0    13567\n",
       "1    22368\n",
       "2    19954\n",
       "3     7026\n",
       "4    15643\n",
       "5      876\n",
       "6    12571\n",
       "7    13441\n",
       "8    10655\n",
       "9    24067\n",
       "Name: LNR, dtype: int64"
      ]
     },
     "execution_count": 35,
     "metadata": {},
     "output_type": "execute_result"
    }
   ],
   "source": [
    "customers.groupby('Cluster Label').LNR.count()"
   ]
  },
  {
   "cell_type": "markdown",
   "metadata": {},
   "source": [
    "## Part 2: Supervised Learning Model\n",
    "\n",
    "Now that you've found which parts of the population are more likely to be customers of the mail-order company, it's time to build a prediction model. Each of the rows in the \"MAILOUT\" data files represents an individual that was targeted for a mailout campaign. Ideally, we should be able to use the demographic information from each individual to decide whether or not it will be worth it to include that person in the campaign.\n",
    "\n",
    "The \"MAILOUT\" data has been split into two approximately equal parts, each with almost 43 000 data rows. In this part, you can verify your model with the \"TRAIN\" partition, which includes a column, \"RESPONSE\", that states whether or not a person became a customer of the company following the campaign. In the next part, you'll need to create predictions on the \"TEST\" partition, where the \"RESPONSE\" column has been withheld."
   ]
  },
  {
   "cell_type": "code",
   "execution_count": 6,
   "metadata": {},
   "outputs": [
    {
     "name": "stdout",
     "output_type": "stream",
     "text": [
      "File loaded...\n",
      "data shape before cleaning: (42962, 367)\n",
      "NaN in numeric columns filled...\n",
      "File cleaned.\n",
      "data shape after cleaning: (42962, 438)\n"
     ]
    }
   ],
   "source": [
    "mailout_train = load_and_clean_data('../../data/Term2/capstone/arvato_data/Udacity_MAILOUT_052018_TRAIN.csv')"
   ]
  },
  {
   "cell_type": "code",
   "execution_count": 7,
   "metadata": {},
   "outputs": [],
   "source": [
    "X_train = mailout_train.drop('RESPONSE',axis=1)\n",
    "Y_train = mailout_train['RESPONSE']"
   ]
  },
  {
   "cell_type": "code",
   "execution_count": 8,
   "metadata": {},
   "outputs": [],
   "source": [
    "def choose_principal_components(df, percent=0.9):\n",
    "    '''\n",
    "    INPUT \n",
    "    df - pandas dataframe \n",
    "    percent - percentage of data variance to be perserved after pca\n",
    "    \n",
    "    OUTPUT\n",
    "    df_principal - ordered principal components of df\n",
    "    weight_pca - percentage of variance explained by each of the principal components.\n",
    "    num_pca - minimum number of principal components that perserves more than \"percent\" of variance of df\n",
    "    \n",
    "    This function perform PCA on df and return pca model and principal components in order\n",
    "    and plot accumulated percentage of variance explained by each of the principal components.\n",
    "    \n",
    "    '''\n",
    "    # Standardize data for PCA\n",
    "    df_std = StandardScaler().fit_transform(df)\n",
    "    print('Standardized data...')\n",
    "    \n",
    "    # Perform PCA\n",
    "    pca = PCA(n_components=df.shape[1]) \n",
    "    pca.fit(df_std) \n",
    "    print('Initial PCA is done...')\n",
    "    \n",
    "    # Accumulate percentage of variance explained by each of the principal components.\n",
    "    weight_pca = pca.explained_variance_ratio_\n",
    "    perc_pca = np.cumsum(weight_pca)\n",
    "    # Minimum number of principal components that perserves more than 90% of variance of df\n",
    "    num_pca = np.where(perc_pca>=percent)[0][0]\n",
    "    \n",
    "    # PCA transform df_std to num_pca components\n",
    "    pca = PCA(n_components=num_pca) \n",
    "    principal_components = pca.fit_transform(df_std) \n",
    "    df_principal= pd.DataFrame(principal_components)\n",
    "    print('Final PCA keeps {} features.'.format(num_pca))\n",
    "    \n",
    "    # Plot PCA results\n",
    "    plt.figure(figsize=(6,4))\n",
    "    plt.plot(perc_pca, color='k', lw=2)\n",
    "    plt.xlabel('Number of components')\n",
    "    plt.ylabel('Total explained variance')\n",
    "    plt.xlim(0, df.shape[1])\n",
    "    plt.yticks(np.arange(0, 1.1, 0.1))\n",
    "    plt.axvline(num_pca, c='b')\n",
    "    plt.axhline(percent, c='r')\n",
    "    plt.show();\n",
    "    \n",
    "    return df_principal, num_pca, pca"
   ]
  },
  {
   "cell_type": "code",
   "execution_count": 9,
   "metadata": {},
   "outputs": [
    {
     "name": "stdout",
     "output_type": "stream",
     "text": [
      "Standardized data...\n",
      "Initial PCA is done...\n",
      "Final PCA keeps 185 features.\n"
     ]
    },
    {
     "data": {
      "image/png": "[encoded data removed]",
      "text/plain": [
       "<matplotlib.figure.Figure at 0x7fe2ec2711d0>"
      ]
     },
     "metadata": {
      "needs_background": "light"
     },
     "output_type": "display_data"
    }
   ],
   "source": [
    "X_train_pca, num_pca, pca = choose_principal_components(X_train, 0.9)"
   ]
  },
  {
   "cell_type": "code",
   "execution_count": 71,
   "metadata": {},
   "outputs": [],
   "source": [
    "def down_sample_class0(X_train_pca, Y_train, k_cluster=10, DnSamp_rate=20):\n",
    "    '''\n",
    "    INPUT\n",
    "    X_train_pca - 2D dataframe for down-sampling\n",
    "    Y_train - 1D array which contains class label 0/1 with the same index as X_train_pca\n",
    "    k_cluster - k-mean cluster number \n",
    "    DnSamp_rate - down-sampling rate\n",
    "    \n",
    "    OUTPUT\n",
    "    X_train_pca_DnSamp - 2D dataframe for down-sampled X_train_pca\n",
    "    Y_train_DnSample - 1D array of class labels 0/1 \n",
    "    \n",
    "    This function performs k-mean clustering on X_train_pca, and down sample class 0 data in each cluster\n",
    "    \n",
    "    '''\n",
    "    # Run k_mean cluster for 10 cluster on class 0 of traning data\n",
    "    X_train_pca_class0 = X_train_pca[Y_train==0]\n",
    "    X_train_pca_class1= X_train_pca[Y_train==1]\n",
    "    print('Original Class1/Class0 = {}'.format(sum(Y_train==1)/sum(Y_train==0)))\n",
    "\n",
    "    X_train_pca_class0_cluster = kmean_clustering(k_cluster, X_train_pca_class0, X_train_pca_class0)\n",
    "    print('K-mean clustering is done for {} clusters.'.format(k_cluster))\n",
    "\n",
    "    # Down-sample in each cluster of class 0 \n",
    "    cluster_size = X_train_pca_class0_cluster.groupby('Cluster Label').count()[0]\n",
    "    X_train_pca_DnSamp = pd.DataFrame()\n",
    "    for i in np.arange(k_cluster):\n",
    "        df_cluster = X_train_pca_class0_cluster[X_train_pca_class0_cluster['Cluster Label']==i]\n",
    "        X_train_pca_DnSamp = X_train_pca_DnSamp.append(df_cluster.sample(n=round(cluster_size[i]/DnSamp_rate).astype(int), \n",
    "                                                          random_state=i))\n",
    "\n",
    "    # Append class 1 data\n",
    "    X_train_pca_DnSamp.drop('Cluster Label',axis=1,inplace=True)\n",
    "    num_class0 = X_train_pca_DnSamp.shape[0]\n",
    "    X_train_pca_DnSamp = X_train_pca_DnSamp.append(X_train_pca_class1)\n",
    "    print('Down sampled total X_train_pca size: {}'.format(X_train_pca_DnSamp.shape))\n",
    "\n",
    "    # Down sample Y_train\n",
    "    Y_train_DnSample = np.zeros(X_train_pca_DnSamp.shape[0], dtype=int)\n",
    "    Y_train_DnSample[num_class0:] = 1\n",
    "    print('Down sampled Class1/Class0 = {}'.format(sum(Y_train_DnSample==1)/sum(Y_train_DnSample==0)))\n",
    "\n",
    "    return X_train_pca_DnSamp, Y_train_DnSample"
   ]
  },
  {
   "cell_type": "code",
   "execution_count": 72,
   "metadata": {
    "scrolled": true
   },
   "outputs": [
    {
     "name": "stdout",
     "output_type": "stream",
     "text": [
      "Original Class1/Class0 = 0.012538298373792129\n",
      "K-mean clustering is done for 10 clusters.\n",
      "Down sampled total X_train_pca size: (1380, 185)\n",
      "Down sampled Class1/Class0 = 0.6273584905660378\n"
     ]
    }
   ],
   "source": [
    "X_train_pca_DnSamp, Y_train_DnSample = down_sample_class0(X_train_pca, Y_train, k_cluster=10, DnSamp_rate=50)"
   ]
  },
  {
   "cell_type": "code",
   "execution_count": 73,
   "metadata": {},
   "outputs": [
    {
     "name": "stdout",
     "output_type": "stream",
     "text": [
      "ROC score: 0.6481902523218251\n"
     ]
    },
    {
     "data": {
      "text/plain": [
       "LinearSVC(C=1.0, class_weight=None, dual=True, fit_intercept=True,\n",
       "     intercept_scaling=1, loss='squared_hinge', max_iter=1000,\n",
       "     multi_class='ovr', penalty='l2', random_state=0, tol=1e-05, verbose=0)"
      ]
     },
     "execution_count": 73,
     "metadata": {},
     "output_type": "execute_result"
    }
   ],
   "source": [
    "clf = LinearSVC(random_state=0, tol=1e-5)\n",
    "clf.fit(X_train_pca_DnSamp, Y_train_DnSample)\n",
    "yhat = clf.predict(X_train_pca)\n",
    "roc=roc_auc_score(Y_train, yhat)\n",
    "print('ROC score: {}'.format(roc))\n",
    "clf"
   ]
  },
  {
   "cell_type": "code",
   "execution_count": 74,
   "metadata": {},
   "outputs": [
    {
     "name": "stdout",
     "output_type": "stream",
     "text": [
      "Training   class1: 532, class0: 42430, class1/class0: 0.01\n",
      "Prediction class1: 11409, class0: 31553, class1/class0: 0.36\n"
     ]
    },
    {
     "data": {
      "text/plain": [
       "0.73588287323681389"
      ]
     },
     "execution_count": 74,
     "metadata": {},
     "output_type": "execute_result"
    }
   ],
   "source": [
    "print('Training   class1: {}, class0: {}, class1/class0: {}'.\n",
    "      format(sum(Y_train==1),sum(Y_train==0),round(sum(Y_train==1)/sum(Y_train==0),2)))\n",
    "print('Prediction class1: {}, class0: {}, class1/class0: {}'.\n",
    "      format(sum(yhat==1),sum(yhat==0),round(sum(yhat==1)/sum(yhat==0),2)))\n",
    "score_train = clf.score(X_train_pca, Y_train)\n",
    "score_train"
   ]
  },
  {
   "cell_type": "code",
   "execution_count": 75,
   "metadata": {},
   "outputs": [
    {
     "data": {
      "text/plain": [
       "Pipeline(memory=None,\n",
       "     steps=[('clf', LogisticRegression(C=1.0, class_weight=None, dual=False, fit_intercept=True,\n",
       "          intercept_scaling=1, max_iter=100, multi_class='ovr', n_jobs=1,\n",
       "          penalty='l2', random_state=42, solver='liblinear', tol=0.0001,\n",
       "          verbose=0, warm_start=False))])"
      ]
     },
     "execution_count": 75,
     "metadata": {},
     "output_type": "execute_result"
    }
   ],
   "source": [
    "# Build pipeline\n",
    "pipeline = Pipeline([\n",
    "                ('clf', LogisticRegression(verbose=0, random_state=42))\n",
    "                ])\n",
    "pipeline"
   ]
  },
  {
   "cell_type": "code",
   "execution_count": 76,
   "metadata": {},
   "outputs": [
    {
     "name": "stdout",
     "output_type": "stream",
     "text": [
      "ROC score: 0.6492115275225536\n"
     ]
    }
   ],
   "source": [
    "# LR = LogisticRegression(C=0.02, solver='sag').fit(X_train_pca_DnSamp, Y_train_DnSample)\n",
    "pipeline.fit(X_train_pca_DnSamp, Y_train_DnSample)\n",
    "yhat = pipeline.predict(X_train_pca)\n",
    "roc=roc_auc_score(Y_train, yhat)\n",
    "print('ROC score: {}'.format(roc))"
   ]
  },
  {
   "cell_type": "code",
   "execution_count": 87,
   "metadata": {},
   "outputs": [
    {
     "data": {
      "text/plain": [
       "GridSearchCV(cv=3, error_score='raise',\n",
       "       estimator=Pipeline(memory=None,\n",
       "     steps=[('clf', LogisticRegression(C=1.0, class_weight=None, dual=False, fit_intercept=True,\n",
       "          intercept_scaling=1, max_iter=100, multi_class='ovr', n_jobs=1,\n",
       "          penalty='l2', random_state=42, solver='liblinear', tol=0.0001,\n",
       "          verbose=0, warm_start=False))]),\n",
       "       fit_params=None, iid=True, n_jobs=1,\n",
       "       param_grid={'clf__C': [0.01, 0.1, 1]}, pre_dispatch='2*n_jobs',\n",
       "       refit=True, return_train_score='warn', scoring='roc_auc', verbose=0)"
      ]
     },
     "execution_count": 87,
     "metadata": {},
     "output_type": "execute_result"
    }
   ],
   "source": [
    "# Use GridSearchCV to optimize model\n",
    "parameters = {\n",
    "    'clf__C': [0.01, 0.1, 1]\n",
    "}\n",
    "\n",
    "cv = GridSearchCV(pipeline, param_grid=parameters,scoring='roc_auc',cv=3)\n",
    "cv"
   ]
  },
  {
   "cell_type": "code",
   "execution_count": 88,
   "metadata": {},
   "outputs": [
    {
     "name": "stdout",
     "output_type": "stream",
     "text": [
      "\n",
      "Best Parameters: {'clf__C': 1}\n"
     ]
    }
   ],
   "source": [
    "cv.fit(X_train_pca_DnSamp, Y_train_DnSample)\n",
    "print(\"\\nBest Parameters:\", cv.best_params_)"
   ]
  },
  {
   "cell_type": "code",
   "execution_count": 89,
   "metadata": {},
   "outputs": [
    {
     "name": "stdout",
     "output_type": "stream",
     "text": [
      "ROC score: 0.6492115275225536\n"
     ]
    },
    {
     "data": {
      "text/plain": [
       "array([[ 0.23,  0.77],\n",
       "       [ 0.92,  0.08]])"
      ]
     },
     "execution_count": 89,
     "metadata": {},
     "output_type": "execute_result"
    }
   ],
   "source": [
    "yhat = pipeline.predict(X_train_pca)\n",
    "roc=roc_auc_score(Y_train, yhat)\n",
    "print('ROC score: {}'.format(roc))\n",
    "yhat_prob = cv.predict_proba(X_train_pca)\n",
    "yhat_prob[0:2]"
   ]
  },
  {
   "cell_type": "code",
   "execution_count": 90,
   "metadata": {},
   "outputs": [
    {
     "name": "stdout",
     "output_type": "stream",
     "text": [
      "Training   class1: 532, class0: 42430, class1/class0: 0.01\n",
      "Prediction class1: 10111, class0: 32851, class1/class0: 0.31\n"
     ]
    },
    {
     "data": {
      "text/plain": [
       "0.72622802882766657"
      ]
     },
     "execution_count": 90,
     "metadata": {},
     "output_type": "execute_result"
    }
   ],
   "source": [
    "print('Training   class1: {}, class0: {}, class1/class0: {}'.\n",
    "      format(sum(Y_train==1),sum(Y_train==0),round(sum(Y_train==1)/sum(Y_train==0),2)))\n",
    "print('Prediction class1: {}, class0: {}, class1/class0: {}'.\n",
    "      format(sum(yhat==1),sum(yhat==0),round(sum(yhat==1)/sum(yhat==0),2)))\n",
    "score_train = cv.score(X_train_pca, Y_train)\n",
    "score_train"
   ]
  },
  {
   "cell_type": "code",
   "execution_count": 47,
   "metadata": {},
   "outputs": [],
   "source": [
    "def plot_confusion_matrix(cm, classes,\n",
    "                          normalize=False,\n",
    "                          title='Confusion matrix',\n",
    "                          cmap=plt.cm.Blues):\n",
    "    \"\"\"\n",
    "    INPUT\n",
    "    cm - actual class in 1D array\n",
    "    classes - predicted class in 1D array\n",
    "    \n",
    "    OUTPUT\n",
    "    None\n",
    "    \n",
    "    This function prints and plots the confusion matrix.\n",
    "    Normalization can be applied by setting `normalize=True`.\n",
    "    \"\"\"\n",
    "    if normalize:\n",
    "        cm = cm.astype('float') / cm.sum(axis=1)[:, np.newaxis]\n",
    "        print(\"Normalized confusion matrix\")\n",
    "    else:\n",
    "        print('Confusion matrix, without normalization')\n",
    "\n",
    "    print(cm)\n",
    "\n",
    "    plt.imshow(cm, interpolation='nearest', cmap=cmap)\n",
    "    plt.title(title)\n",
    "    plt.colorbar()\n",
    "    tick_marks = np.arange(len(classes))\n",
    "    plt.xticks(tick_marks, classes, rotation=45)\n",
    "    plt.yticks(tick_marks, classes)\n",
    "\n",
    "    fmt = '.2f' if normalize else 'd'\n",
    "    thresh = cm.max() / 2.\n",
    "    for i, j in itertools.product(range(cm.shape[0]), range(cm.shape[1])):\n",
    "        plt.text(j, i, format(cm[i, j], fmt),\n",
    "                 horizontalalignment=\"center\",\n",
    "                 color=\"white\" if cm[i, j] > thresh else \"black\")\n",
    "\n",
    "    plt.tight_layout()\n",
    "    plt.ylabel('True label')\n",
    "    plt.xlabel('Predicted label')"
   ]
  },
  {
   "cell_type": "code",
   "execution_count": 91,
   "metadata": {},
   "outputs": [
    {
     "name": "stdout",
     "output_type": "stream",
     "text": [
      "Confusion matrix, without normalization\n",
      "[[  282   250]\n",
      " [ 9829 32601]]\n"
     ]
    },
    {
     "data": {
      "image/png": "[encoded data removed]",
      "text/plain": [
       "<matplotlib.figure.Figure at 0x7fe2e0f29c88>"
      ]
     },
     "metadata": {
      "needs_background": "light"
     },
     "output_type": "display_data"
    }
   ],
   "source": [
    "# Compute confusion matrix\n",
    "cnf_matrix = confusion_matrix(Y_train, yhat, labels=[1,0])\n",
    "np.set_printoptions(precision=2)\n",
    "\n",
    "\n",
    "# Plot non-normalized confusion matrix\n",
    "plt.figure()\n",
    "plot_confusion_matrix(cnf_matrix, classes=['response=1','response=0'],normalize= False,  title='Confusion matrix')"
   ]
  },
  {
   "cell_type": "code",
   "execution_count": 153,
   "metadata": {},
   "outputs": [
    {
     "name": "stdout",
     "output_type": "stream",
     "text": [
      "             precision    recall  f1-score   support\n",
      "\n",
      "          0       0.99      0.97      0.98     42430\n",
      "          1       0.05      0.14      0.07       532\n",
      "\n",
      "avg / total       0.98      0.96      0.97     42962\n",
      "\n"
     ]
    }
   ],
   "source": [
    "print (classification_report(Y_train, yhat))"
   ]
  },
  {
   "cell_type": "markdown",
   "metadata": {},
   "source": [
    "## Part 3: Kaggle Competition\n",
    "\n",
    "Now that you've created a model to predict which individuals are most likely to respond to a mailout campaign, it's time to test that model in competition through Kaggle. If you click on the link [here](http://www.kaggle.com/t/21e6d45d4c574c7fa2d868f0e8c83140), you'll be taken to the competition page where, if you have a Kaggle account, you can enter. If you're one of the top performers, you may have the chance to be contacted by a hiring manager from Arvato or Bertelsmann for an interview!\n",
    "\n",
    "Your entry to the competition should be a CSV file with two columns. The first column should be a copy of \"LNR\", which acts as an ID number for each individual in the \"TEST\" partition. The second column, \"RESPONSE\", should be some measure of how likely each individual became a customer – this might not be a straightforward probability. As you should have found in Part 2, there is a large output class imbalance, where most individuals did not respond to the mailout. Thus, predicting individual classes and using accuracy does not seem to be an appropriate performance evaluation method. Instead, the competition will be using AUC to evaluate performance. The exact values of the \"RESPONSE\" column do not matter as much: only that the higher values try to capture as many of the actual customers as possible, early in the ROC curve sweep."
   ]
  },
  {
   "cell_type": "code",
   "execution_count": 110,
   "metadata": {},
   "outputs": [
    {
     "name": "stdout",
     "output_type": "stream",
     "text": [
      "File loaded...\n",
      "data shape before cleaning: (42833, 366)\n",
      "NaN in numeric columns filled...\n",
      "File cleaned.\n",
      "data shape after cleaning: (42833, 437)\n"
     ]
    }
   ],
   "source": [
    "# Load and clean test data\n",
    "mailout_test = load_and_clean_data('../../data/Term2/capstone/arvato_data/Udacity_MAILOUT_052018_TEST.csv')"
   ]
  },
  {
   "cell_type": "code",
   "execution_count": 124,
   "metadata": {},
   "outputs": [],
   "source": [
    "# Perform PCA on test data as same as PCA on training data\n",
    "X_test_pca = pca.transform(mailout_test)"
   ]
  },
  {
   "cell_type": "code",
   "execution_count": 129,
   "metadata": {},
   "outputs": [],
   "source": [
    "# Predict on test data\n",
    "y_test_est = clf.predict(X_test_pca)\n",
    "# Save predic results to dataframe\n",
    "df_predict = pd.DataFrame(mailout_test['LNR'])\n",
    "df_predict['RESPONSE'] = y_test_est"
   ]
  },
  {
   "cell_type": "code",
   "execution_count": 130,
   "metadata": {},
   "outputs": [
    {
     "data": {
      "text/plain": [
       "0.050801951766161604"
      ]
     },
     "execution_count": 130,
     "metadata": {},
     "output_type": "execute_result"
    }
   ],
   "source": [
    "df_predict['RESPONSE'].mean()"
   ]
  },
  {
   "cell_type": "code",
   "execution_count": 131,
   "metadata": {},
   "outputs": [],
   "source": [
    "df_predict.to_csv('predict_test.csv', index=False, sep=',', encoding='utf-8')"
   ]
  },
  {
   "cell_type": "code",
   "execution_count": null,
   "metadata": {},
   "outputs": [],
   "source": []
  }
 ],
 "metadata": {
  "kernelspec": {
   "display_name": "Python 3",
   "language": "python",
   "name": "python3"
  },
  "language_info": {
   "codemirror_mode": {
    "name": "ipython",
    "version": 3
   },
   "file_extension": ".py",
   "mimetype": "text/x-python",
   "name": "python",
   "nbconvert_exporter": "python",
   "pygments_lexer": "ipython3",
   "version": "3.6.3"
  }
 },
 "nbformat": 4,
 "nbformat_minor": 2
}
