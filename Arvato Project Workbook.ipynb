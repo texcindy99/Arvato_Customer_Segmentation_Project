{
 "cells": [
  {
   "cell_type": "markdown",
   "metadata": {},
   "source": [
    "# Capstone Project: Create a Customer Segmentation Report for Arvato Financial Services\n",
    "\n",
    "In this project, you will analyze demographics data for customers of a mail-order sales company in Germany, comparing it against demographics information for the general population. You'll use unsupervised learning techniques to perform customer segmentation, identifying the parts of the population that best describe the core customer base of the company. Then, you'll apply what you've learned on a third dataset with demographics information for targets of a marketing campaign for the company, and use a model to predict which individuals are most likely to convert into becoming customers for the company. The data that you will use has been provided by our partners at Bertelsmann Arvato Analytics, and represents a real-life data science task.\n",
    "\n",
    "If you completed the first term of this program, you will be familiar with the first part of this project, from the unsupervised learning project. The versions of those two datasets used in this project will include many more features and has not been pre-cleaned. You are also free to choose whatever approach you'd like to analyzing the data rather than follow pre-determined steps. In your work on this project, make sure that you carefully document your steps and decisions, since your main deliverable for this project will be a blog post reporting your findings."
   ]
  },
  {
   "cell_type": "markdown",
   "metadata": {},
   "source": [
    "## Table of Contents\n",
    "\n",
    "I. [Part 0: Get to Know the Data](#part0)<br>\n",
    "$\\;\\;\\;\\;\\;\\;$[0.1 Explore azdias data](#part0.1)<br>\n",
    "$\\;\\;\\;\\;\\;\\;$[0.2 Explore customers data](#part0.2)<br>\n",
    "II. [Part 1: Customer Segmentation Report](#part1)<br>\n",
    "$\\;\\;\\;\\;\\;\\;$[1.1 Load and clean data](#part1.1)<br>\n",
    "$\\;\\;\\;\\;\\;\\;$[1.2 Perform PCA to reduce features](#part1.2)<br>\n",
    "$\\;\\;\\;\\;\\;\\;$[1.3 K-Means clustering](#part1.3)<br>\n",
    "III. [Part 2: Supervised Learning Model](#part2)<br>\n",
    "$\\;\\;\\;\\;\\;\\;$[2.1 Load, clean and perform PCA on training data](#part2.1)<br>\n",
    "$\\;\\;\\;\\;\\;\\;$[2.2 Downsample training data on major class](#part2.2)<br>\n",
    "$\\;\\;\\;\\;\\;\\;$[2.3 classify training data](#part2.3)<br>\n",
    "$\\;\\;\\;\\;\\;\\;$[2.4 Improve classifier on training data](#part2.4)<br>\n",
    "IV. [Part 3: Kaggle Competition](#part3)<br>\n",
    "$\\;\\;\\;\\;\\;\\;$[3.1 Prepare test data](#part3.1)<br>\n",
    "$\\;\\;\\;\\;\\;\\;$[3.2 Predict test data ](#part3.2)<br>"
   ]
  },
  {
   "cell_type": "code",
   "execution_count": 1,
   "metadata": {},
   "outputs": [],
   "source": [
    "# import libraries here; add more as necessary\n",
    "import numpy as np\n",
    "import pandas as pd\n",
    "import matplotlib.pyplot as plt\n",
    "import seaborn as sns\n",
    "from sklearn.decomposition import PCA as PCA\n",
    "from sklearn.preprocessing import StandardScaler \n",
    "from sklearn.cluster import KMeans\n",
    "from sklearn.svm import LinearSVC\n",
    "from sklearn.pipeline import Pipeline\n",
    "from sklearn.model_selection import GridSearchCV\n",
    "from sklearn.model_selection import cross_val_score, KFold\n",
    "\n",
    "from sklearn.linear_model import LogisticRegression\n",
    "from sklearn.metrics import classification_report, confusion_matrix\n",
    "from sklearn.metrics import roc_auc_score\n",
    "import itertools\n",
    "\n",
    "# ! conda install -c conda-forge xgboost -y\n",
    "# import xgboost as xgb\n",
    "\n",
    "# magic word for producing visualizations in notebook\n",
    "%matplotlib inline\n"
   ]
  },
  {
   "cell_type": "markdown",
   "metadata": {},
   "source": [
    "## <a class=\"anchor\" id=\"part0\"> Part 0: Get to Know the Data </a>\n",
    "\n",
    "There are four data files associated with this project:\n",
    "\n",
    "- `Udacity_AZDIAS_052018.csv`: Demographics data for the general population of Germany; 891 211 persons (rows) x 366 features (columns).\n",
    "- `Udacity_CUSTOMERS_052018.csv`: Demographics data for customers of a mail-order company; 191 652 persons (rows) x 369 features (columns).\n",
    "- `Udacity_MAILOUT_052018_TRAIN.csv`: Demographics data for individuals who were targets of a marketing campaign; 42 982 persons (rows) x 367 (columns).\n",
    "- `Udacity_MAILOUT_052018_TEST.csv`: Demographics data for individuals who were targets of a marketing campaign; 42 833 persons (rows) x 366 (columns).\n",
    "\n",
    "Each row of the demographics files represents a single person, but also includes information outside of individuals, including information about their household, building, and neighborhood. Use the information from the first two files to figure out how customers (\"CUSTOMERS\") are similar to or differ from the general population at large (\"AZDIAS\"), then use your analysis to make predictions on the other two files (\"MAILOUT\"), predicting which recipients are most likely to become a customer for the mail-order company.\n",
    "\n",
    "The \"CUSTOMERS\" file contains three extra columns ('CUSTOMER_GROUP', 'ONLINE_PURCHASE', and 'PRODUCT_GROUP'), which provide broad information about the customers depicted in the file. The original \"MAILOUT\" file included one additional column, \"RESPONSE\", which indicated whether or not each recipient became a customer of the company. For the \"TRAIN\" subset, this column has been retained, but in the \"TEST\" subset it has been removed; it is against that withheld column that your final predictions will be assessed in the Kaggle competition.\n",
    "\n",
    "Otherwise, all of the remaining columns are the same between the three data files. For more information about the columns depicted in the files, you can refer to two Excel spreadsheets provided in the workspace. [One of them](./DIAS Information Levels - Attributes 2017.xlsx) is a top-level list of attributes and descriptions, organized by informational category. [The other](./DIAS Attributes - Values 2017.xlsx) is a detailed mapping of data values for each feature in alphabetical order.\n",
    "\n",
    "In the below cell, we've provided some initial code to load in the first two datasets. Note for all of the `.csv` data files in this project that they're semicolon (`;`) delimited, so an additional argument in the [`read_csv()`](https://pandas.pydata.org/pandas-docs/stable/generated/pandas.read_csv.html) call has been included to read in the data properly. Also, considering the size of the datasets, it may take some time for them to load completely.\n",
    "\n",
    "You'll notice when the data is loaded in that a warning message will immediately pop up. Before you really start digging into the modeling and analysis, you're going to need to perform some cleaning. Take some time to browse the structure of the data and look over the informational spreadsheets to understand the data values. Make some decisions on which features to keep, which features to drop, and if any revisions need to be made on data formats. It'll be a good idea to create a function with pre-processing steps, since you'll need to clean all of the datasets before you work with them."
   ]
  },
  {
   "cell_type": "code",
   "execution_count": 4,
   "metadata": {},
   "outputs": [],
   "source": [
    "# load in the data\n",
    "types_dict = {'CAMEO_DEUG_2015': object, 'CAMEO_INTL_2015': object} # Define data type so no warning while reading csv\n",
    "azdias = pd.read_csv('../../data/Term2/capstone/arvato_data/Udacity_AZDIAS_052018.csv', sep=';', dtype=types_dict)\n",
    "customers = pd.read_csv('../../data/Term2/capstone/arvato_data/Udacity_CUSTOMERS_052018.csv', sep=';', dtype=types_dict)"
   ]
  },
  {
   "cell_type": "code",
   "execution_count": 3,
   "metadata": {
    "scrolled": true
   },
   "outputs": [
    {
     "name": "stdout",
     "output_type": "stream",
     "text": [
      "azdias data shape:  (891221, 366)\n",
      "customers data shape:  (191652, 369)\n"
     ]
    }
   ],
   "source": [
    "print('azdias data shape: ', azdias.shape)\n",
    "print('customers data shape: ', customers.shape)"
   ]
  },
  {
   "cell_type": "code",
   "execution_count": 4,
   "metadata": {},
   "outputs": [
    {
     "name": "stdout",
     "output_type": "stream",
     "text": [
      "CAMEO_DEUG_2015    float64\n",
      "CAMEO_INTL_2015    float64\n",
      "dtype: object\n",
      "CAMEO_DEUG_2015    float64\n",
      "CAMEO_INTL_2015    float64\n",
      "dtype: object\n"
     ]
    }
   ],
   "source": [
    "# Convert column 18, 19 to numeric type\n",
    "azdias.iloc[:,18] = pd.to_numeric(azdias.iloc[:,18], errors='coerce')\n",
    "azdias.iloc[:,19] = pd.to_numeric(azdias.iloc[:,19], errors='coerce')\n",
    "customers.iloc[:,18] = pd.to_numeric(customers.iloc[:,18], errors='coerce')\n",
    "customers.iloc[:,19] = pd.to_numeric(customers.iloc[:,19], errors='coerce')\n",
    "print(azdias.dtypes[18:20])\n",
    "print(customers.dtypes[18:20])"
   ]
  },
  {
   "cell_type": "markdown",
   "metadata": {},
   "source": [
    "### <a class=\"anchor\" id=\"part0.1\"> 0.1 Explore azdias data </a>"
   ]
  },
  {
   "cell_type": "markdown",
   "metadata": {},
   "source": [
    "**Check NaN values in the data**"
   ]
  },
  {
   "cell_type": "code",
   "execution_count": 5,
   "metadata": {},
   "outputs": [
    {
     "name": "stdout",
     "output_type": "stream",
     "text": [
      "Column No. with >90% NaN:  (array([4, 5, 6, 7]),)\n"
     ]
    }
   ],
   "source": [
    "# Check NaN values\n",
    "perc_nan = azdias.isnull().mean()\n",
    "print('Column No. with >90% NaN: ', np.where(perc_nan>0.9))"
   ]
  },
  {
   "cell_type": "markdown",
   "metadata": {},
   "source": [
    "Four columns in azdias have more than 90% NaNs. These columns can be dropped when cleaning the data."
   ]
  },
  {
   "cell_type": "code",
   "execution_count": 6,
   "metadata": {},
   "outputs": [
    {
     "data": {
      "text/html": [
       "<div>\n",
       "<style scoped>\n",
       "    .dataframe tbody tr th:only-of-type {\n",
       "        vertical-align: middle;\n",
       "    }\n",
       "\n",
       "    .dataframe tbody tr th {\n",
       "        vertical-align: top;\n",
       "    }\n",
       "\n",
       "    .dataframe thead th {\n",
       "        text-align: right;\n",
       "    }\n",
       "</style>\n",
       "<table border=\"1\" class=\"dataframe\">\n",
       "  <thead>\n",
       "    <tr style=\"text-align: right;\">\n",
       "      <th></th>\n",
       "      <th>ALTER_KIND1</th>\n",
       "      <th>ALTER_KIND2</th>\n",
       "      <th>ALTER_KIND3</th>\n",
       "      <th>ALTER_KIND4</th>\n",
       "    </tr>\n",
       "  </thead>\n",
       "  <tbody>\n",
       "    <tr>\n",
       "      <th>0</th>\n",
       "      <td>NaN</td>\n",
       "      <td>NaN</td>\n",
       "      <td>NaN</td>\n",
       "      <td>NaN</td>\n",
       "    </tr>\n",
       "    <tr>\n",
       "      <th>1</th>\n",
       "      <td>NaN</td>\n",
       "      <td>NaN</td>\n",
       "      <td>NaN</td>\n",
       "      <td>NaN</td>\n",
       "    </tr>\n",
       "    <tr>\n",
       "      <th>2</th>\n",
       "      <td>NaN</td>\n",
       "      <td>NaN</td>\n",
       "      <td>NaN</td>\n",
       "      <td>NaN</td>\n",
       "    </tr>\n",
       "    <tr>\n",
       "      <th>3</th>\n",
       "      <td>NaN</td>\n",
       "      <td>NaN</td>\n",
       "      <td>NaN</td>\n",
       "      <td>NaN</td>\n",
       "    </tr>\n",
       "    <tr>\n",
       "      <th>4</th>\n",
       "      <td>NaN</td>\n",
       "      <td>NaN</td>\n",
       "      <td>NaN</td>\n",
       "      <td>NaN</td>\n",
       "    </tr>\n",
       "  </tbody>\n",
       "</table>\n",
       "</div>"
      ],
      "text/plain": [
       "   ALTER_KIND1  ALTER_KIND2  ALTER_KIND3  ALTER_KIND4\n",
       "0          NaN          NaN          NaN          NaN\n",
       "1          NaN          NaN          NaN          NaN\n",
       "2          NaN          NaN          NaN          NaN\n",
       "3          NaN          NaN          NaN          NaN\n",
       "4          NaN          NaN          NaN          NaN"
      ]
     },
     "execution_count": 6,
     "metadata": {},
     "output_type": "execute_result"
    }
   ],
   "source": [
    "azdias.iloc[:,[4, 5, 6, 7]].head()"
   ]
  },
  {
   "cell_type": "code",
   "execution_count": 7,
   "metadata": {},
   "outputs": [
    {
     "data": {
      "image/png": "[encoded data removed]",
      "text/plain": [
       "<matplotlib.figure.Figure at 0x7f39971135c0>"
      ]
     },
     "metadata": {
      "needs_background": "light"
     },
     "output_type": "display_data"
    }
   ],
   "source": [
    "# Plot percentage of NaN in each column\n",
    "plt.bar(np.arange(len(perc_nan)), perc_nan);\n",
    "plt.title('Percentage of NaN in each azdias data column');\n",
    "plt.xlabel('Column index');"
   ]
  },
  {
   "cell_type": "markdown",
   "metadata": {},
   "source": [
    "**Check column data type**"
   ]
  },
  {
   "cell_type": "code",
   "execution_count": 6,
   "metadata": {},
   "outputs": [
    {
     "data": {
      "text/plain": [
       "(360, 0, 6)"
      ]
     },
     "execution_count": 6,
     "metadata": {},
     "output_type": "execute_result"
    }
   ],
   "source": [
    "# Count columns in numeric, boolean and category type\n",
    "num_azd = azdias.select_dtypes(include=['int','float64']).columns\n",
    "bool_azd = azdias.select_dtypes(include=['bool']).columns\n",
    "cat_azd = azdias.select_dtypes(include=['object']).columns\n",
    "len(num_azd), len(bool_azd), len(cat_azd)"
   ]
  },
  {
   "cell_type": "code",
   "execution_count": 9,
   "metadata": {},
   "outputs": [
    {
     "data": {
      "text/html": [
       "<div>\n",
       "<style scoped>\n",
       "    .dataframe tbody tr th:only-of-type {\n",
       "        vertical-align: middle;\n",
       "    }\n",
       "\n",
       "    .dataframe tbody tr th {\n",
       "        vertical-align: top;\n",
       "    }\n",
       "\n",
       "    .dataframe thead th {\n",
       "        text-align: right;\n",
       "    }\n",
       "</style>\n",
       "<table border=\"1\" class=\"dataframe\">\n",
       "  <thead>\n",
       "    <tr style=\"text-align: right;\">\n",
       "      <th></th>\n",
       "      <th>CAMEO_DEU_2015</th>\n",
       "      <th>D19_LETZTER_KAUF_BRANCHE</th>\n",
       "      <th>EINGEFUEGT_AM</th>\n",
       "      <th>OST_WEST_KZ</th>\n",
       "    </tr>\n",
       "  </thead>\n",
       "  <tbody>\n",
       "    <tr>\n",
       "      <th>0</th>\n",
       "      <td>NaN</td>\n",
       "      <td>NaN</td>\n",
       "      <td>NaN</td>\n",
       "      <td>NaN</td>\n",
       "    </tr>\n",
       "    <tr>\n",
       "      <th>1</th>\n",
       "      <td>8A</td>\n",
       "      <td>NaN</td>\n",
       "      <td>1992-02-10 00:00:00</td>\n",
       "      <td>W</td>\n",
       "    </tr>\n",
       "    <tr>\n",
       "      <th>2</th>\n",
       "      <td>4C</td>\n",
       "      <td>D19_UNBEKANNT</td>\n",
       "      <td>1992-02-12 00:00:00</td>\n",
       "      <td>W</td>\n",
       "    </tr>\n",
       "    <tr>\n",
       "      <th>3</th>\n",
       "      <td>2A</td>\n",
       "      <td>D19_UNBEKANNT</td>\n",
       "      <td>1997-04-21 00:00:00</td>\n",
       "      <td>W</td>\n",
       "    </tr>\n",
       "    <tr>\n",
       "      <th>4</th>\n",
       "      <td>6B</td>\n",
       "      <td>D19_SCHUHE</td>\n",
       "      <td>1992-02-12 00:00:00</td>\n",
       "      <td>W</td>\n",
       "    </tr>\n",
       "  </tbody>\n",
       "</table>\n",
       "</div>"
      ],
      "text/plain": [
       "  CAMEO_DEU_2015 D19_LETZTER_KAUF_BRANCHE        EINGEFUEGT_AM OST_WEST_KZ\n",
       "0            NaN                      NaN                  NaN         NaN\n",
       "1             8A                      NaN  1992-02-10 00:00:00           W\n",
       "2             4C            D19_UNBEKANNT  1992-02-12 00:00:00           W\n",
       "3             2A            D19_UNBEKANNT  1997-04-21 00:00:00           W\n",
       "4             6B               D19_SCHUHE  1992-02-12 00:00:00           W"
      ]
     },
     "execution_count": 9,
     "metadata": {},
     "output_type": "execute_result"
    }
   ],
   "source": [
    "# Check category columns\n",
    "azdias.loc[:,cat_azd].head()"
   ]
  },
  {
   "cell_type": "code",
   "execution_count": 10,
   "metadata": {},
   "outputs": [
    {
     "data": {
      "image/png": "[encoded data removed]",
      "text/plain": [
       "<matplotlib.figure.Figure at 0x7f3996329cc0>"
      ]
     },
     "metadata": {
      "needs_background": "light"
     },
     "output_type": "display_data"
    }
   ],
   "source": [
    "# Check column \"D19_LETZTER_KAUF_BRANCHE\" values\n",
    "count_vals = azdias.D19_LETZTER_KAUF_BRANCHE.value_counts()\n",
    "(count_vals[:10]/customers.shape[0]).plot(kind='bar');\n",
    "plt.title('D19_LETZTER_KAUF_BRANCHE');\n",
    "plt.tight_layout();"
   ]
  },
  {
   "cell_type": "code",
   "execution_count": 7,
   "metadata": {},
   "outputs": [
    {
     "name": "stdout",
     "output_type": "stream",
     "text": [
      "Numeric columns min value: -1.0\n",
      "Numeric columns max value: 1082873.0\n"
     ]
    }
   ],
   "source": [
    "print('Numeric columns min value: {}'.format(azdias[num_azd].min().min()))\n",
    "print('Numeric columns max value: {}'.format(azdias[num_azd].max().max()))"
   ]
  },
  {
   "cell_type": "markdown",
   "metadata": {},
   "source": [
    "### <a class=\"anchor\" id=\"part0.2\">  0.2 Explore customers data </a>"
   ]
  },
  {
   "cell_type": "markdown",
   "metadata": {},
   "source": [
    "**Check NaN values in the data**"
   ]
  },
  {
   "cell_type": "code",
   "execution_count": 8,
   "metadata": {},
   "outputs": [
    {
     "name": "stdout",
     "output_type": "stream",
     "text": [
      "Column No. with >90% NaN:  (array([4, 5, 6, 7]),)\n"
     ]
    }
   ],
   "source": [
    "# Check NaN values\n",
    "perc_na = customers.isnull().mean()\n",
    "print('Column No. with >90% NaN: ', np.where(perc_na>0.9))"
   ]
  },
  {
   "cell_type": "markdown",
   "metadata": {},
   "source": [
    "customers data has the same four columns with more than 90% NaNs. These columns can be dropped when cleaning the data."
   ]
  },
  {
   "cell_type": "code",
   "execution_count": 9,
   "metadata": {},
   "outputs": [
    {
     "data": {
      "image/png": "[encoded data removed]",
      "text/plain": [
       "<matplotlib.figure.Figure at 0x7fd93a0d3710>"
      ]
     },
     "metadata": {
      "needs_background": "light"
     },
     "output_type": "display_data"
    }
   ],
   "source": [
    "plt.bar(np.arange(len(perc_na)), perc_na);\n",
    "plt.title('Percentage of NaN in each customers data column');\n",
    "plt.xlabel('Column index');"
   ]
  },
  {
   "cell_type": "markdown",
   "metadata": {},
   "source": [
    "**Check column data type**"
   ]
  },
  {
   "cell_type": "code",
   "execution_count": 10,
   "metadata": {},
   "outputs": [
    {
     "data": {
      "text/plain": [
       "((361,), (0,), (8,))"
      ]
     },
     "execution_count": 10,
     "metadata": {},
     "output_type": "execute_result"
    }
   ],
   "source": [
    "num_cust = customers.select_dtypes(include=['int','float64']).columns\n",
    "bool_cust = customers.select_dtypes(include=['bool']).columns\n",
    "cat_cust = customers.select_dtypes(include=['object']).columns\n",
    "num_cust.shape, bool_cust.shape, cat_cust.shape"
   ]
  },
  {
   "cell_type": "code",
   "execution_count": 11,
   "metadata": {},
   "outputs": [
    {
     "data": {
      "text/plain": [
       "Index(['CAMEO_DEU_2015', 'CAMEO_DEUG_2015', 'CAMEO_INTL_2015',\n",
       "       'D19_LETZTER_KAUF_BRANCHE', 'EINGEFUEGT_AM', 'OST_WEST_KZ',\n",
       "       'PRODUCT_GROUP', 'CUSTOMER_GROUP'],\n",
       "      dtype='object')"
      ]
     },
     "execution_count": 11,
     "metadata": {},
     "output_type": "execute_result"
    }
   ],
   "source": [
    "# Category columns\n",
    "cat_cust"
   ]
  },
  {
   "cell_type": "markdown",
   "metadata": {},
   "source": [
    "Customers data has three more columns than azdias data: 'CUSTOMER_GROUP', 'ONLINE_PURCHASE', 'PRODUCT_GROUP'. Let's check the value distribution of these columns."
   ]
  },
  {
   "cell_type": "code",
   "execution_count": 12,
   "metadata": {},
   "outputs": [
    {
     "data": {
      "image/png": "[encoded data removed]",
      "text/plain": [
       "<matplotlib.figure.Figure at 0x7fd93a277128>"
      ]
     },
     "metadata": {
      "needs_background": "light"
     },
     "output_type": "display_data"
    }
   ],
   "source": [
    "col_names = ['CUSTOMER_GROUP', 'ONLINE_PURCHASE', 'PRODUCT_GROUP']\n",
    "i=1\n",
    "for col_name in col_names:\n",
    "    plt.subplot(1,3,i)\n",
    "    count_vals = customers[col_name].value_counts()\n",
    "\n",
    "    (count_vals[:10]/customers.shape[0]).plot(kind='bar');\n",
    "    plt.title(col_name);\n",
    "    plt.tight_layout();\n",
    "    i +=1"
   ]
  },
  {
   "cell_type": "markdown",
   "metadata": {},
   "source": [
    "## <a class=\"anchor\" id=\"part1\"> Part 1: Customer Segmentation Report </a>\n",
    "\n",
    "The main bulk of your analysis will come in this part of the project. Here, you should use unsupervised learning techniques to describe the relationship between the demographics of the company's existing customers and the general population of Germany. By the end of this part, you should be able to describe parts of the general population that are more likely to be part of the mail-order company's main customer base, and which parts of the general population are less so."
   ]
  },
  {
   "cell_type": "markdown",
   "metadata": {},
   "source": [
    "### <a class=\"anchor\" id=\"part1.1\"> 1.1 Load and clean data </a>"
   ]
  },
  {
   "cell_type": "markdown",
   "metadata": {},
   "source": [
    "After loading the data from csv file, column 8 and 9 need to be converted to numeric types first.\n",
    "\n",
    "According to data exploraton in the previous section, there are four columns 'ALTER_KIND1','ALTER_KIND2','ALTER_KIND3' and 'ALTER_KIND4' with more than 90% of NaNs that can be dropped. There is one datetime column 'EINGEFUEGT_AM' which has no description in \"DIAS Attributes - Values 2017.xlsx\". This will also be dropped. \n",
    "\n",
    "Furthermore, according to feature descriptions in \"DIAS Attributes - Values 2017.xlsx\" I found most of the features in numeric columns have \"unkown\" category which is coded as -1, 0, or 9. Hence NaN in each column can be filled as the numeric code of \"unkown\" category. If the \"unknow\" category has more than 1 numeric code, they will be merge to 1 number.\n",
    "\n",
    "Finally, category columns are encoded to numbers. All the steps will be performed in the \"load_and_clean_data\" function below."
   ]
  },
  {
   "cell_type": "code",
   "execution_count": 3,
   "metadata": {},
   "outputs": [],
   "source": [
    "def load_and_clean_data(file_name):\n",
    "    '''\n",
    "    INPUT\n",
    "    file_name - csv file name\n",
    "    \n",
    "    OUTPUT \n",
    "    df - pandas dataframe \n",
    "    \n",
    "    This function load data from csv file to df and cleans df by the following steps:\n",
    "    1. Convert 2 columns from string to number\n",
    "    2. Drop 4 columns with 90% more NaNs and 1 datetime column\n",
    "    3. Fill NaNs in numeric columns with label of unknown\n",
    "    4. Encode category columns to numeric columns\n",
    "    \n",
    "    '''\n",
    "    # Load data from csv file\n",
    "    types_dict = {'CAMEO_DEUG_2015': object, 'CAMEO_INTL_2015': object}\n",
    "    df = pd.read_csv(file_name, sep=';', dtype=types_dict)\n",
    "    print('File loaded...')\n",
    "    print('data shape before cleaning: {}'.format(df.shape))\n",
    "    \n",
    "    # Convert two columns to numeric type\n",
    "    df.CAMEO_DEUG_2015 = pd.to_numeric(df.CAMEO_DEUG_2015, errors='coerce')\n",
    "    df.CAMEO_INTL_2015 = pd.to_numeric(df.CAMEO_INTL_2015, errors='coerce')\n",
    "\n",
    "    # Drop columns with more than 90% of missing values and one less relevant category columns\n",
    "    df = df.drop(['ALTER_KIND1','ALTER_KIND2','ALTER_KIND3','ALTER_KIND4','EINGEFUEGT_AM'], axis=1)\n",
    "    \n",
    "    # Map NaN to Unknown label 10 in the following columns\n",
    "    col_unknown_10 = ['D19_BANKEN_DATUM', 'D19_BANKEN_OFFLINE_DATUM', 'D19_BANKEN_ONLINE_DATUM', 'D19_GESAMT_ONLINE_DATUM',\n",
    "                       'D19_TELKO_DATUM', 'D19_TELKO_ONLINE_DATUM', 'D19_VERSAND_DATUM', \n",
    "                       'D19_VERSAND_OFFLINE_DATUM', 'D19_VERSAND_ONLINE_DATUM'];\n",
    "    for col in col_unknown_10:\n",
    "        df[col].fillna(10, inplace=True) \n",
    " \n",
    "    # Map NaN and -1 to Unknown label 0 in the following columns\n",
    "    col_name0 = ['ALTERSKATEGORIE_GROB','ANREDE_KZ','GEBAEUDETYP','HH_EINKOMMEN_SCORE','KBA05_BAUMAX',\n",
    "                 'KBA05_GBZ','NATIONALITAET_KZ','PRAEGENDE_JUGENDJAHRE','REGIOTYP','TITEL_KZ',\n",
    "                 'WOHNDAUER_2008','W_KEIT_KIND_HH','KKK']\n",
    "    for col in col_name0:\n",
    "        df[df[col]==-1] = 0\n",
    "        df[col].fillna(0, inplace=True)\n",
    "    \n",
    "    # Map NaN and -1 to Unknown label 9 in the following columns\n",
    "    indx00 = np.where(df.columns.str.match('KBA05_CCM1'))[0][0]\n",
    "    indx01 = np.where(df.columns.str.match('KBA05_FRAU'))[0][0]+1                  \n",
    "    indx10 = np.where(df.columns.str.match('KBA05_HERST1'))[0][0]\n",
    "    indx11 = np.where(df.columns.str.match('KBA05_ZUL4'))[0][0]+1                                 \n",
    "    indx20 = np.where(df.columns.str.match('SEMIO_DOM'))[0][0]\n",
    "    indx21 = np.where(df.columns.str.match('SEMIO_VERT'))[0][0]+1\n",
    "                  \n",
    "    indx3 = np.where(df.columns.str.match('D19_KONSUMTYP'))[0][0]                 \n",
    "    indx4 = np.where(df.columns.str.match('RELAT_AB'))[0][0]\n",
    "    indx5 = np.where(df.columns.str.match('ZABEOTYP'))[0][0]\n",
    "                 \n",
    "    col_indx = np.concatenate((np.arange(indx00,indx01),np.arange(indx10,indx11),np.arange(indx20,indx21),\n",
    "                               np.arange(indx3,indx3+1),np.arange(indx4,indx4+1),np.arange(indx5,indx5+1)))\n",
    "    col_name9 = df.columns[col_indx]\n",
    "    for col in col_name9:\n",
    "        df[df[col]==-1] = 9\n",
    "        df[col].fillna(9, inplace=True)\n",
    "    \n",
    "    # Replace NaN in the rest of numeric columns with min()\n",
    "    num_vars = df.select_dtypes(include=['float', 'int']).columns\n",
    "    for col in num_vars:\n",
    "        df[col].fillna((df[col].min()), inplace=True)  \n",
    "    print('NaN in numeric columns filled...')\n",
    "          \n",
    "    # Dummy the categorical variables\n",
    "    cat_vars = df.select_dtypes(include=['object']).copy().columns\n",
    "    for var in  cat_vars:\n",
    "        # for each cat add dummy var, drop original column\n",
    "        df = pd.concat([df.drop(var, axis=1), pd.get_dummies(df[var], prefix=var, prefix_sep='_', drop_first=True)], axis=1)\n",
    "        \n",
    "    print('File cleaned.')\n",
    "    print('data shape after cleaning: {}'.format(df.shape))\n",
    "    \n",
    "    return df"
   ]
  },
  {
   "cell_type": "markdown",
   "metadata": {},
   "source": [
    "**Load and clean \"azdias\" and \"customers\" data**"
   ]
  },
  {
   "cell_type": "code",
   "execution_count": 4,
   "metadata": {},
   "outputs": [
    {
     "name": "stdout",
     "output_type": "stream",
     "text": [
      "File loaded...\n",
      "data shape before cleaning: (891221, 366)\n",
      "NaN in numeric columns filled...\n",
      "File cleaned.\n",
      "data shape after cleaning: (891221, 437)\n",
      "Cleaned azdias shape: (891221, 437)\n"
     ]
    }
   ],
   "source": [
    "azd = load_and_clean_data('../../data/Term2/capstone/arvato_data/Udacity_AZDIAS_052018.csv')\n",
    "print('Cleaned azdias shape: {}'.format(azd.shape))"
   ]
  },
  {
   "cell_type": "code",
   "execution_count": 18,
   "metadata": {},
   "outputs": [
    {
     "name": "stdout",
     "output_type": "stream",
     "text": [
      "File loaded...\n",
      "data shape before cleaning: (191652, 369)\n",
      "NaN in numeric columns filled...\n",
      "File cleaned.\n",
      "data shape after cleaning: (191652, 441)\n",
      "Cleaned customers shape: (191652, 441)\n"
     ]
    }
   ],
   "source": [
    "cust = load_and_clean_data('../../data/Term2/capstone/arvato_data/Udacity_CUSTOMERS_052018.csv')\n",
    "print('Cleaned customers shape: {}'.format(cust.shape))"
   ]
  },
  {
   "cell_type": "markdown",
   "metadata": {},
   "source": [
    "### <a class=\"anchor\" id=\"part1.2\"> 1.2 Perform PCA to reduce features </a>"
   ]
  },
  {
   "cell_type": "markdown",
   "metadata": {},
   "source": [
    "**Define fuction to standardize data and perform PCA**"
   ]
  },
  {
   "cell_type": "code",
   "execution_count": 7,
   "metadata": {},
   "outputs": [],
   "source": [
    "def choose_principal_components(df, percent=0.9):\n",
    "    '''\n",
    "    INPUT \n",
    "    df - 2D pandas dataframe \n",
    "    percent - percentage of data variance to be perserved after pca\n",
    "    \n",
    "    OUTPUT\n",
    "    df_principal - 2D dataframe of ordered principal components from df\n",
    "    num_pca - minimum number of principal components that perserves more than \"percent\" of variance of df\n",
    "    pca - PCA model\n",
    "    \n",
    "    This function perform PCA on df and return pca model, principal components in order and its number\n",
    "    and plot accumulated percentage of variance explained by each of the principal components.\n",
    "    \n",
    "    '''\n",
    "    # Standardize data for PCA\n",
    "    df_std = StandardScaler().fit_transform(df)\n",
    "    print('Standardized data...')\n",
    "    \n",
    "    # Perform PCA\n",
    "    pca = PCA(n_components=df.shape[1]) \n",
    "    pca.fit(df_std) \n",
    "    print('Initial PCA is done...')\n",
    "    \n",
    "    # Accumulate percentage of variance explained by each of the principal components.\n",
    "    weight_pca = pca.explained_variance_ratio_\n",
    "    perc_pca = np.cumsum(weight_pca)\n",
    "    # Minimum number of principal components that perserves more than 90% of variance of df\n",
    "    num_pca = np.where(perc_pca>=percent)[0][0]\n",
    "    \n",
    "    # PCA transform df_std to num_pca components\n",
    "    pca = PCA(n_components=num_pca) \n",
    "    principal_components = pca.fit_transform(df_std) \n",
    "    df_principal= pd.DataFrame(principal_components)\n",
    "    print('Final PCA keeps {} features.'.format(num_pca))\n",
    "    \n",
    "    # Plot PCA results\n",
    "    plt.figure(figsize=(6,4))\n",
    "    plt.plot(perc_pca, color='k', lw=2)\n",
    "    plt.xlabel('Number of components')\n",
    "    plt.ylabel('Total explained variance')\n",
    "    plt.xlim(0, df.shape[1])\n",
    "    plt.yticks(np.arange(0, 1.1, 0.1))\n",
    "    plt.axvline(num_pca, c='b')\n",
    "    plt.axhline(percent, c='r')\n",
    "    plt.show();\n",
    "    \n",
    "    return df_principal, num_pca, pca"
   ]
  },
  {
   "cell_type": "markdown",
   "metadata": {},
   "source": [
    "**Choose minimum number of features to perserve 90% of data characterization**"
   ]
  },
  {
   "cell_type": "code",
   "execution_count": 8,
   "metadata": {},
   "outputs": [
    {
     "name": "stdout",
     "output_type": "stream",
     "text": [
      "Standardized data...\n",
      "Initial PCA is done...\n",
      "Final PCA keeps 196 features.\n"
     ]
    },
    {
     "data": {
      "image/png": "[encoded data removed]",
      "text/plain": [
       "<matplotlib.figure.Figure at 0x7fd23bb4cbe0>"
      ]
     },
     "metadata": {
      "needs_background": "light"
     },
     "output_type": "display_data"
    }
   ],
   "source": [
    "# Perform PCA on azdias\n",
    "azdias_pca, num_pca, pca = choose_principal_components(azd, percent=0.9)"
   ]
  },
  {
   "cell_type": "markdown",
   "metadata": {},
   "source": [
    "**Check feature importance in each principal component**"
   ]
  },
  {
   "cell_type": "code",
   "execution_count": 7,
   "metadata": {},
   "outputs": [],
   "source": [
    "def create_importance_dataframe(pca, df_col):\n",
    "    '''\n",
    "    INPUT \n",
    "    pca - PCA model\n",
    "    df_col - features(column names) of original dataframe\n",
    "    \n",
    "    OUTPUT\n",
    "    importance_df - 2D dataframe of feature importance for each PCA component\n",
    "    \n",
    "    This function record feature importance for each PCA component into a 2D dataframe\n",
    "    \n",
    "    '''\n",
    "\n",
    "    # Change pcs components ndarray to a dataframe\n",
    "    importance_df  = pd.DataFrame(pca.components_)\n",
    "\n",
    "    # Assign columns\n",
    "    importance_df.columns  = df_col\n",
    "\n",
    "    # Change to absolute values\n",
    "    importance_df =importance_df.apply(np.abs)\n",
    "\n",
    "    # Transpose\n",
    "    importance_df=importance_df.transpose()\n",
    "\n",
    "    # Change column names again\n",
    "\n",
    "    ## First get number of pcs\n",
    "    num_pcs = importance_df.shape[1]\n",
    "\n",
    "    ## Generate the new column names\n",
    "    new_columns = [f'PC{i}' for i in range(1, num_pcs + 1)]\n",
    "\n",
    "    ## Now rename\n",
    "    importance_df.columns  = new_columns\n",
    "\n",
    "    # Return importance df\n",
    "    return importance_df"
   ]
  },
  {
   "cell_type": "markdown",
   "metadata": {},
   "source": [
    "The table below shows the importance score of each feature in each principal component."
   ]
  },
  {
   "cell_type": "code",
   "execution_count": 8,
   "metadata": {},
   "outputs": [
    {
     "data": {
      "text/html": [
       "<div>\n",
       "<style scoped>\n",
       "    .dataframe tbody tr th:only-of-type {\n",
       "        vertical-align: middle;\n",
       "    }\n",
       "\n",
       "    .dataframe tbody tr th {\n",
       "        vertical-align: top;\n",
       "    }\n",
       "\n",
       "    .dataframe thead th {\n",
       "        text-align: right;\n",
       "    }\n",
       "</style>\n",
       "<table border=\"1\" class=\"dataframe\">\n",
       "  <thead>\n",
       "    <tr style=\"text-align: right;\">\n",
       "      <th></th>\n",
       "      <th>PC1</th>\n",
       "      <th>PC2</th>\n",
       "      <th>PC3</th>\n",
       "      <th>PC4</th>\n",
       "      <th>PC5</th>\n",
       "      <th>PC6</th>\n",
       "      <th>PC7</th>\n",
       "      <th>PC8</th>\n",
       "      <th>PC9</th>\n",
       "      <th>PC10</th>\n",
       "      <th>...</th>\n",
       "      <th>PC187</th>\n",
       "      <th>PC188</th>\n",
       "      <th>PC189</th>\n",
       "      <th>PC190</th>\n",
       "      <th>PC191</th>\n",
       "      <th>PC192</th>\n",
       "      <th>PC193</th>\n",
       "      <th>PC194</th>\n",
       "      <th>PC195</th>\n",
       "      <th>PC196</th>\n",
       "    </tr>\n",
       "  </thead>\n",
       "  <tbody>\n",
       "    <tr>\n",
       "      <th>LNR</th>\n",
       "      <td>0.000855</td>\n",
       "      <td>0.012125</td>\n",
       "      <td>0.015233</td>\n",
       "      <td>0.066880</td>\n",
       "      <td>0.043525</td>\n",
       "      <td>0.083596</td>\n",
       "      <td>0.012783</td>\n",
       "      <td>0.153933</td>\n",
       "      <td>0.006005</td>\n",
       "      <td>0.037349</td>\n",
       "      <td>...</td>\n",
       "      <td>0.020267</td>\n",
       "      <td>0.005241</td>\n",
       "      <td>0.007735</td>\n",
       "      <td>0.218746</td>\n",
       "      <td>0.036722</td>\n",
       "      <td>0.108685</td>\n",
       "      <td>0.099359</td>\n",
       "      <td>0.102220</td>\n",
       "      <td>0.010603</td>\n",
       "      <td>0.071495</td>\n",
       "    </tr>\n",
       "    <tr>\n",
       "      <th>AGER_TYP</th>\n",
       "      <td>0.015606</td>\n",
       "      <td>0.020604</td>\n",
       "      <td>0.087173</td>\n",
       "      <td>0.111155</td>\n",
       "      <td>0.071086</td>\n",
       "      <td>0.022713</td>\n",
       "      <td>0.011390</td>\n",
       "      <td>0.012221</td>\n",
       "      <td>0.006517</td>\n",
       "      <td>0.007652</td>\n",
       "      <td>...</td>\n",
       "      <td>0.007224</td>\n",
       "      <td>0.072577</td>\n",
       "      <td>0.039978</td>\n",
       "      <td>0.041421</td>\n",
       "      <td>0.009205</td>\n",
       "      <td>0.042915</td>\n",
       "      <td>0.000423</td>\n",
       "      <td>0.042767</td>\n",
       "      <td>0.067329</td>\n",
       "      <td>0.035368</td>\n",
       "    </tr>\n",
       "    <tr>\n",
       "      <th>AKT_DAT_KL</th>\n",
       "      <td>0.020091</td>\n",
       "      <td>0.076269</td>\n",
       "      <td>0.015559</td>\n",
       "      <td>0.094828</td>\n",
       "      <td>0.019993</td>\n",
       "      <td>0.015017</td>\n",
       "      <td>0.008302</td>\n",
       "      <td>0.021950</td>\n",
       "      <td>0.026119</td>\n",
       "      <td>0.005972</td>\n",
       "      <td>...</td>\n",
       "      <td>0.173411</td>\n",
       "      <td>0.224028</td>\n",
       "      <td>0.079271</td>\n",
       "      <td>0.073419</td>\n",
       "      <td>0.116808</td>\n",
       "      <td>0.081311</td>\n",
       "      <td>0.072154</td>\n",
       "      <td>0.066616</td>\n",
       "      <td>0.127261</td>\n",
       "      <td>0.156081</td>\n",
       "    </tr>\n",
       "    <tr>\n",
       "      <th>ALTER_HH</th>\n",
       "      <td>0.036754</td>\n",
       "      <td>0.067253</td>\n",
       "      <td>0.080085</td>\n",
       "      <td>0.012134</td>\n",
       "      <td>0.002286</td>\n",
       "      <td>0.012953</td>\n",
       "      <td>0.003984</td>\n",
       "      <td>0.009618</td>\n",
       "      <td>0.054359</td>\n",
       "      <td>0.013933</td>\n",
       "      <td>...</td>\n",
       "      <td>0.035340</td>\n",
       "      <td>0.067757</td>\n",
       "      <td>0.056166</td>\n",
       "      <td>0.071430</td>\n",
       "      <td>0.014181</td>\n",
       "      <td>0.068317</td>\n",
       "      <td>0.018642</td>\n",
       "      <td>0.051554</td>\n",
       "      <td>0.113353</td>\n",
       "      <td>0.026258</td>\n",
       "    </tr>\n",
       "    <tr>\n",
       "      <th>ALTERSKATEGORIE_FEIN</th>\n",
       "      <td>0.036850</td>\n",
       "      <td>0.060609</td>\n",
       "      <td>0.094507</td>\n",
       "      <td>0.024257</td>\n",
       "      <td>0.008164</td>\n",
       "      <td>0.014275</td>\n",
       "      <td>0.001293</td>\n",
       "      <td>0.016360</td>\n",
       "      <td>0.038335</td>\n",
       "      <td>0.027822</td>\n",
       "      <td>...</td>\n",
       "      <td>0.018005</td>\n",
       "      <td>0.029864</td>\n",
       "      <td>0.008409</td>\n",
       "      <td>0.010780</td>\n",
       "      <td>0.012437</td>\n",
       "      <td>0.014119</td>\n",
       "      <td>0.010837</td>\n",
       "      <td>0.054388</td>\n",
       "      <td>0.031017</td>\n",
       "      <td>0.033620</td>\n",
       "    </tr>\n",
       "  </tbody>\n",
       "</table>\n",
       "<p>5 rows × 196 columns</p>\n",
       "</div>"
      ],
      "text/plain": [
       "                           PC1       PC2       PC3       PC4       PC5  \\\n",
       "LNR                   0.000855  0.012125  0.015233  0.066880  0.043525   \n",
       "AGER_TYP              0.015606  0.020604  0.087173  0.111155  0.071086   \n",
       "AKT_DAT_KL            0.020091  0.076269  0.015559  0.094828  0.019993   \n",
       "ALTER_HH              0.036754  0.067253  0.080085  0.012134  0.002286   \n",
       "ALTERSKATEGORIE_FEIN  0.036850  0.060609  0.094507  0.024257  0.008164   \n",
       "\n",
       "                           PC6       PC7       PC8       PC9      PC10  \\\n",
       "LNR                   0.083596  0.012783  0.153933  0.006005  0.037349   \n",
       "AGER_TYP              0.022713  0.011390  0.012221  0.006517  0.007652   \n",
       "AKT_DAT_KL            0.015017  0.008302  0.021950  0.026119  0.005972   \n",
       "ALTER_HH              0.012953  0.003984  0.009618  0.054359  0.013933   \n",
       "ALTERSKATEGORIE_FEIN  0.014275  0.001293  0.016360  0.038335  0.027822   \n",
       "\n",
       "                        ...        PC187     PC188     PC189     PC190  \\\n",
       "LNR                     ...     0.020267  0.005241  0.007735  0.218746   \n",
       "AGER_TYP                ...     0.007224  0.072577  0.039978  0.041421   \n",
       "AKT_DAT_KL              ...     0.173411  0.224028  0.079271  0.073419   \n",
       "ALTER_HH                ...     0.035340  0.067757  0.056166  0.071430   \n",
       "ALTERSKATEGORIE_FEIN    ...     0.018005  0.029864  0.008409  0.010780   \n",
       "\n",
       "                         PC191     PC192     PC193     PC194     PC195  \\\n",
       "LNR                   0.036722  0.108685  0.099359  0.102220  0.010603   \n",
       "AGER_TYP              0.009205  0.042915  0.000423  0.042767  0.067329   \n",
       "AKT_DAT_KL            0.116808  0.081311  0.072154  0.066616  0.127261   \n",
       "ALTER_HH              0.014181  0.068317  0.018642  0.051554  0.113353   \n",
       "ALTERSKATEGORIE_FEIN  0.012437  0.014119  0.010837  0.054388  0.031017   \n",
       "\n",
       "                         PC196  \n",
       "LNR                   0.071495  \n",
       "AGER_TYP              0.035368  \n",
       "AKT_DAT_KL            0.156081  \n",
       "ALTER_HH              0.026258  \n",
       "ALTERSKATEGORIE_FEIN  0.033620  \n",
       "\n",
       "[5 rows x 196 columns]"
      ]
     },
     "metadata": {},
     "output_type": "display_data"
    }
   ],
   "source": [
    "# Call function to create importance df\n",
    "importance_df  =create_importance_dataframe(pca, azd.columns)\n",
    "\n",
    "# Show first few rows\n",
    "display(importance_df.head())"
   ]
  },
  {
   "cell_type": "markdown",
   "metadata": {},
   "source": [
    "Now we can plot the top 10 features in the first principal component."
   ]
  },
  {
   "cell_type": "code",
   "execution_count": 63,
   "metadata": {},
   "outputs": [
    {
     "data": {
      "image/png": "[encoded data removed]",
      "text/plain": [
       "<matplotlib.figure.Figure at 0x7f560c34b780>"
      ]
     },
     "metadata": {
      "needs_background": "light"
     },
     "output_type": "display_data"
    }
   ],
   "source": [
    "# Sort depending on PC of interest\n",
    "\n",
    "## PC1 top 10 important features\n",
    "pc1_top_10_features = importance_df['PC1'].sort_values(ascending = False)[:10]\n",
    "# print(), print(f'PC1 top 10 feautres are \\n')\n",
    "# display(pc1_top_10_features )\n",
    "\n",
    "# Plot top 10 important features in the first principal component\n",
    "ax = pc1_top_10_features.plot.bar(title='Top 10 important features in 1st principal component',rot=60);\n",
    "ax.set_ylabel('importance');"
   ]
  },
  {
   "cell_type": "markdown",
   "metadata": {},
   "source": [
    "#### Perform the same PCA on customers data"
   ]
  },
  {
   "cell_type": "code",
   "execution_count": 32,
   "metadata": {},
   "outputs": [],
   "source": [
    "# find columns to drop in customers data which are not in azdias data\n",
    "col_drop = np.setdiff1d(cust.columns, azd.columns)\n",
    "# Standardize customers data\n",
    "cust_std = StandardScaler().fit_transform(cust.drop(col_drop,axis=1))\n",
    "# Perform PCA on customers data as same as PCA on azdias data\n",
    "customers_pca = pca.transform(cust_std)"
   ]
  },
  {
   "cell_type": "code",
   "execution_count": 33,
   "metadata": {},
   "outputs": [
    {
     "data": {
      "text/plain": [
       "(191652, 196)"
      ]
     },
     "execution_count": 33,
     "metadata": {},
     "output_type": "execute_result"
    }
   ],
   "source": [
    "customers_pca.shape"
   ]
  },
  {
   "cell_type": "markdown",
   "metadata": {},
   "source": [
    "### <a class=\"anchor\" id=\"part1.3\"> 1.3 K-Means clustering </a>"
   ]
  },
  {
   "cell_type": "markdown",
   "metadata": {},
   "source": [
    "**Choose a reasonable cluser number**\n",
    "\n",
    "Run k-means to cluster the neighborhood into 2~20 clusters. Calculate the sum of squared distance to find the optimal cluster number."
   ]
  },
  {
   "cell_type": "code",
   "execution_count": 39,
   "metadata": {},
   "outputs": [],
   "source": [
    "def choose_kmean_number(df):\n",
    "    '''\n",
    "    INPUT \n",
    "    df - pandas dataframe \n",
    "    \n",
    "    OUTPUT\n",
    "    None\n",
    "    \n",
    "    This function display elbow plot for k-mean clustering on df\n",
    "    \n",
    "    '''\n",
    "    Sum_of_squared_distances = []\n",
    "    for k in range(2,20,2):\n",
    "        # run k-means clustering\n",
    "        kmeans = KMeans(n_clusters=k, random_state=0).fit(df)\n",
    "        # Record sum of squared distances of samples to the nearest cluster center\n",
    "        Sum_of_squared_distances.append(kmeans.inertia_)\n",
    "\n",
    "    K = range(2,20,2)\n",
    "    plt.plot(K, Sum_of_squared_distances, 'bx-')\n",
    "    plt.xlabel('k',fontsize=14)\n",
    "    plt.ylabel('Sum_of_squared_distances',fontsize=14)\n",
    "    plt.title('Elbow method for optimal k',fontsize=14)\n",
    "    plt.show()"
   ]
  },
  {
   "cell_type": "code",
   "execution_count": 65,
   "metadata": {},
   "outputs": [
    {
     "data": {
      "image/png": "[encoded data removed]",
      "text/plain": [
       "<matplotlib.figure.Figure at 0x7f560beb25c0>"
      ]
     },
     "metadata": {
      "needs_background": "light"
     },
     "output_type": "display_data"
    }
   ],
   "source": [
    "choose_kmean_number(azdias_pca)"
   ]
  },
  {
   "cell_type": "markdown",
   "metadata": {},
   "source": [
    "According to the elbow plot, we can divide azdias data to 10 clusters."
   ]
  },
  {
   "cell_type": "markdown",
   "metadata": {},
   "source": [
    "#### Run k-means clusering for 10 clusters"
   ]
  },
  {
   "cell_type": "code",
   "execution_count": 40,
   "metadata": {},
   "outputs": [],
   "source": [
    "def kmean_clustering(k, df_pca, df):\n",
    "    '''\n",
    "    INPUT \n",
    "    k - number of clustering\n",
    "    df_pca - pandas dataframe with reduced features after PCA\n",
    "    df - original pandas dataframe \n",
    "    \n",
    "    OUTPUT\n",
    "    df - original pandas dataframe with cluster label added to the first column\n",
    "    kmeans - KMeans clustering model\n",
    "    \n",
    "    This function groups df_pca into k clusters and add cluster labels to the original df\n",
    "    \n",
    "    '''\n",
    "    # run k-means clustering\n",
    "    kmeans = KMeans(n_clusters=k, random_state=0).fit(df_pca)\n",
    "\n",
    "    # add clustering labels to df\n",
    "    df.insert(0, 'Cluster Label', kmeans.labels_)\n",
    "\n",
    "    return df, kmeans"
   ]
  },
  {
   "cell_type": "markdown",
   "metadata": {},
   "source": [
    "Clustering azdias"
   ]
  },
  {
   "cell_type": "code",
   "execution_count": 45,
   "metadata": {},
   "outputs": [
    {
     "data": {
      "text/html": [
       "<div>\n",
       "<style scoped>\n",
       "    .dataframe tbody tr th:only-of-type {\n",
       "        vertical-align: middle;\n",
       "    }\n",
       "\n",
       "    .dataframe tbody tr th {\n",
       "        vertical-align: top;\n",
       "    }\n",
       "\n",
       "    .dataframe thead th {\n",
       "        text-align: right;\n",
       "    }\n",
       "</style>\n",
       "<table border=\"1\" class=\"dataframe\">\n",
       "  <thead>\n",
       "    <tr style=\"text-align: right;\">\n",
       "      <th></th>\n",
       "      <th>Cluster Label</th>\n",
       "      <th>LNR</th>\n",
       "      <th>AGER_TYP</th>\n",
       "      <th>AKT_DAT_KL</th>\n",
       "      <th>ALTER_HH</th>\n",
       "      <th>ALTERSKATEGORIE_FEIN</th>\n",
       "      <th>ANZ_HAUSHALTE_AKTIV</th>\n",
       "      <th>ANZ_HH_TITEL</th>\n",
       "      <th>ANZ_KINDER</th>\n",
       "      <th>ANZ_PERSONEN</th>\n",
       "      <th>...</th>\n",
       "      <th>D19_LETZTER_KAUF_BRANCHE_D19_TECHNIK</th>\n",
       "      <th>D19_LETZTER_KAUF_BRANCHE_D19_TELKO_MOBILE</th>\n",
       "      <th>D19_LETZTER_KAUF_BRANCHE_D19_TELKO_REST</th>\n",
       "      <th>D19_LETZTER_KAUF_BRANCHE_D19_TIERARTIKEL</th>\n",
       "      <th>D19_LETZTER_KAUF_BRANCHE_D19_UNBEKANNT</th>\n",
       "      <th>D19_LETZTER_KAUF_BRANCHE_D19_VERSAND_REST</th>\n",
       "      <th>D19_LETZTER_KAUF_BRANCHE_D19_VERSICHERUNGEN</th>\n",
       "      <th>D19_LETZTER_KAUF_BRANCHE_D19_VOLLSORTIMENT</th>\n",
       "      <th>D19_LETZTER_KAUF_BRANCHE_D19_WEIN_FEINKOST</th>\n",
       "      <th>OST_WEST_KZ_W</th>\n",
       "    </tr>\n",
       "  </thead>\n",
       "  <tbody>\n",
       "    <tr>\n",
       "      <th>0</th>\n",
       "      <td>0</td>\n",
       "      <td>910215</td>\n",
       "      <td>-1</td>\n",
       "      <td>1.0</td>\n",
       "      <td>0.0</td>\n",
       "      <td>0.0</td>\n",
       "      <td>0.0</td>\n",
       "      <td>0.0</td>\n",
       "      <td>0.0</td>\n",
       "      <td>0.0</td>\n",
       "      <td>...</td>\n",
       "      <td>0</td>\n",
       "      <td>0</td>\n",
       "      <td>0</td>\n",
       "      <td>0</td>\n",
       "      <td>0</td>\n",
       "      <td>0</td>\n",
       "      <td>0</td>\n",
       "      <td>0</td>\n",
       "      <td>0</td>\n",
       "      <td>0</td>\n",
       "    </tr>\n",
       "    <tr>\n",
       "      <th>1</th>\n",
       "      <td>1</td>\n",
       "      <td>910220</td>\n",
       "      <td>-1</td>\n",
       "      <td>9.0</td>\n",
       "      <td>0.0</td>\n",
       "      <td>21.0</td>\n",
       "      <td>11.0</td>\n",
       "      <td>0.0</td>\n",
       "      <td>0.0</td>\n",
       "      <td>2.0</td>\n",
       "      <td>...</td>\n",
       "      <td>0</td>\n",
       "      <td>0</td>\n",
       "      <td>0</td>\n",
       "      <td>0</td>\n",
       "      <td>0</td>\n",
       "      <td>0</td>\n",
       "      <td>0</td>\n",
       "      <td>0</td>\n",
       "      <td>0</td>\n",
       "      <td>1</td>\n",
       "    </tr>\n",
       "    <tr>\n",
       "      <th>2</th>\n",
       "      <td>1</td>\n",
       "      <td>910225</td>\n",
       "      <td>-1</td>\n",
       "      <td>9.0</td>\n",
       "      <td>17.0</td>\n",
       "      <td>17.0</td>\n",
       "      <td>10.0</td>\n",
       "      <td>0.0</td>\n",
       "      <td>0.0</td>\n",
       "      <td>1.0</td>\n",
       "      <td>...</td>\n",
       "      <td>0</td>\n",
       "      <td>0</td>\n",
       "      <td>0</td>\n",
       "      <td>0</td>\n",
       "      <td>1</td>\n",
       "      <td>0</td>\n",
       "      <td>0</td>\n",
       "      <td>0</td>\n",
       "      <td>0</td>\n",
       "      <td>1</td>\n",
       "    </tr>\n",
       "    <tr>\n",
       "      <th>3</th>\n",
       "      <td>5</td>\n",
       "      <td>910226</td>\n",
       "      <td>2</td>\n",
       "      <td>1.0</td>\n",
       "      <td>13.0</td>\n",
       "      <td>13.0</td>\n",
       "      <td>1.0</td>\n",
       "      <td>0.0</td>\n",
       "      <td>0.0</td>\n",
       "      <td>0.0</td>\n",
       "      <td>...</td>\n",
       "      <td>0</td>\n",
       "      <td>0</td>\n",
       "      <td>0</td>\n",
       "      <td>0</td>\n",
       "      <td>1</td>\n",
       "      <td>0</td>\n",
       "      <td>0</td>\n",
       "      <td>0</td>\n",
       "      <td>0</td>\n",
       "      <td>1</td>\n",
       "    </tr>\n",
       "    <tr>\n",
       "      <th>4</th>\n",
       "      <td>7</td>\n",
       "      <td>910241</td>\n",
       "      <td>-1</td>\n",
       "      <td>1.0</td>\n",
       "      <td>20.0</td>\n",
       "      <td>14.0</td>\n",
       "      <td>3.0</td>\n",
       "      <td>0.0</td>\n",
       "      <td>0.0</td>\n",
       "      <td>4.0</td>\n",
       "      <td>...</td>\n",
       "      <td>0</td>\n",
       "      <td>0</td>\n",
       "      <td>0</td>\n",
       "      <td>0</td>\n",
       "      <td>0</td>\n",
       "      <td>0</td>\n",
       "      <td>0</td>\n",
       "      <td>0</td>\n",
       "      <td>0</td>\n",
       "      <td>1</td>\n",
       "    </tr>\n",
       "  </tbody>\n",
       "</table>\n",
       "<p>5 rows × 438 columns</p>\n",
       "</div>"
      ],
      "text/plain": [
       "   Cluster Label     LNR  AGER_TYP  AKT_DAT_KL  ALTER_HH  \\\n",
       "0              0  910215        -1         1.0       0.0   \n",
       "1              1  910220        -1         9.0       0.0   \n",
       "2              1  910225        -1         9.0      17.0   \n",
       "3              5  910226         2         1.0      13.0   \n",
       "4              7  910241        -1         1.0      20.0   \n",
       "\n",
       "   ALTERSKATEGORIE_FEIN  ANZ_HAUSHALTE_AKTIV  ANZ_HH_TITEL  ANZ_KINDER  \\\n",
       "0                   0.0                  0.0           0.0         0.0   \n",
       "1                  21.0                 11.0           0.0         0.0   \n",
       "2                  17.0                 10.0           0.0         0.0   \n",
       "3                  13.0                  1.0           0.0         0.0   \n",
       "4                  14.0                  3.0           0.0         0.0   \n",
       "\n",
       "   ANZ_PERSONEN      ...        D19_LETZTER_KAUF_BRANCHE_D19_TECHNIK  \\\n",
       "0           0.0      ...                                           0   \n",
       "1           2.0      ...                                           0   \n",
       "2           1.0      ...                                           0   \n",
       "3           0.0      ...                                           0   \n",
       "4           4.0      ...                                           0   \n",
       "\n",
       "   D19_LETZTER_KAUF_BRANCHE_D19_TELKO_MOBILE  \\\n",
       "0                                          0   \n",
       "1                                          0   \n",
       "2                                          0   \n",
       "3                                          0   \n",
       "4                                          0   \n",
       "\n",
       "   D19_LETZTER_KAUF_BRANCHE_D19_TELKO_REST  \\\n",
       "0                                        0   \n",
       "1                                        0   \n",
       "2                                        0   \n",
       "3                                        0   \n",
       "4                                        0   \n",
       "\n",
       "   D19_LETZTER_KAUF_BRANCHE_D19_TIERARTIKEL  \\\n",
       "0                                         0   \n",
       "1                                         0   \n",
       "2                                         0   \n",
       "3                                         0   \n",
       "4                                         0   \n",
       "\n",
       "   D19_LETZTER_KAUF_BRANCHE_D19_UNBEKANNT  \\\n",
       "0                                       0   \n",
       "1                                       0   \n",
       "2                                       1   \n",
       "3                                       1   \n",
       "4                                       0   \n",
       "\n",
       "   D19_LETZTER_KAUF_BRANCHE_D19_VERSAND_REST  \\\n",
       "0                                          0   \n",
       "1                                          0   \n",
       "2                                          0   \n",
       "3                                          0   \n",
       "4                                          0   \n",
       "\n",
       "   D19_LETZTER_KAUF_BRANCHE_D19_VERSICHERUNGEN  \\\n",
       "0                                            0   \n",
       "1                                            0   \n",
       "2                                            0   \n",
       "3                                            0   \n",
       "4                                            0   \n",
       "\n",
       "   D19_LETZTER_KAUF_BRANCHE_D19_VOLLSORTIMENT  \\\n",
       "0                                           0   \n",
       "1                                           0   \n",
       "2                                           0   \n",
       "3                                           0   \n",
       "4                                           0   \n",
       "\n",
       "   D19_LETZTER_KAUF_BRANCHE_D19_WEIN_FEINKOST  OST_WEST_KZ_W  \n",
       "0                                           0              0  \n",
       "1                                           0              1  \n",
       "2                                           0              1  \n",
       "3                                           0              1  \n",
       "4                                           0              1  \n",
       "\n",
       "[5 rows x 438 columns]"
      ]
     },
     "execution_count": 45,
     "metadata": {},
     "output_type": "execute_result"
    }
   ],
   "source": [
    "azdias, kmeans = kmean_clustering(10, azdias_pca, azd)\n",
    "azdias.head()"
   ]
  },
  {
   "cell_type": "markdown",
   "metadata": {},
   "source": [
    "Do the same clustering on customers data"
   ]
  },
  {
   "cell_type": "code",
   "execution_count": 49,
   "metadata": {},
   "outputs": [],
   "source": [
    "# Do the same KMeans clustering on customers data\n",
    "cust_labels = kmeans.predict(customers_pca)\n",
    "# add clustering labels to customers\n",
    "cust.insert(0, 'Cluster Label', cust_labels)"
   ]
  },
  {
   "cell_type": "markdown",
   "metadata": {},
   "source": [
    "#### Check clustering"
   ]
  },
  {
   "cell_type": "code",
   "execution_count": 64,
   "metadata": {},
   "outputs": [
    {
     "data": {
      "image/png": "[encoded data removed]",
      "text/plain": [
       "<matplotlib.figure.Figure at 0x7f560f47d7f0>"
      ]
     },
     "metadata": {
      "needs_background": "light"
     },
     "output_type": "display_data"
    }
   ],
   "source": [
    "# Get sample count in each cluster\n",
    "azd_cluster = azdias.groupby('Cluster Label').LNR.count()\n",
    "cust_cluster = cust.groupby('Cluster Label').LNR.count()\n",
    "# Plot sample count in each cluster\n",
    "df_cluster = pd.concat([azd_cluster, cust_cluster], axis=1, sort=False)\n",
    "df_cluster.columns = ['General Populations', 'Customers']\n",
    "df_cluster.plot(kind=\"bar\", title=\"Sample count\",rot=0);\n",
    "plt.ylabel(\"Count\");"
   ]
  },
  {
   "cell_type": "markdown",
   "metadata": {},
   "source": [
    "## <a class=\"anchor\" id=\"part2\"> Part 2: Supervised Learning Model </a>\n",
    "\n",
    "Now that you've found which parts of the population are more likely to be customers of the mail-order company, it's time to build a prediction model. Each of the rows in the \"MAILOUT\" data files represents an individual that was targeted for a mailout campaign. Ideally, we should be able to use the demographic information from each individual to decide whether or not it will be worth it to include that person in the campaign.\n",
    "\n",
    "The \"MAILOUT\" data has been split into two approximately equal parts, each with almost 43 000 data rows. In this part, you can verify your model with the \"TRAIN\" partition, which includes a column, \"RESPONSE\", that states whether or not a person became a customer of the company following the campaign. In the next part, you'll need to create predictions on the \"TEST\" partition, where the \"RESPONSE\" column has been withheld."
   ]
  },
  {
   "cell_type": "markdown",
   "metadata": {},
   "source": [
    "### <a class=\"anchor\" id=\"part2.1\"> 2.1 Load, clean and perform PCA on training data </a>"
   ]
  },
  {
   "cell_type": "code",
   "execution_count": 6,
   "metadata": {},
   "outputs": [
    {
     "name": "stdout",
     "output_type": "stream",
     "text": [
      "File loaded...\n",
      "data shape before cleaning: (42962, 367)\n",
      "NaN in numeric columns filled...\n",
      "File cleaned.\n",
      "data shape after cleaning: (42962, 438)\n"
     ]
    }
   ],
   "source": [
    "mailout_train = load_and_clean_data('../../data/Term2/capstone/arvato_data/Udacity_MAILOUT_052018_TRAIN.csv')"
   ]
  },
  {
   "cell_type": "code",
   "execution_count": 7,
   "metadata": {},
   "outputs": [],
   "source": [
    "X_train = mailout_train.drop('RESPONSE',axis=1)\n",
    "Y_train = mailout_train['RESPONSE']"
   ]
  },
  {
   "cell_type": "code",
   "execution_count": 10,
   "metadata": {},
   "outputs": [
    {
     "name": "stdout",
     "output_type": "stream",
     "text": [
      "Standardized data...\n",
      "Initial PCA is done...\n",
      "Final PCA keeps 185 features.\n"
     ]
    },
    {
     "data": {
      "image/png": "[encoded data removed]",
      "text/plain": [
       "<matplotlib.figure.Figure at 0x7fd4ccae3a20>"
      ]
     },
     "metadata": {
      "needs_background": "light"
     },
     "output_type": "display_data"
    }
   ],
   "source": [
    "X_train_pca, num_pca, pca = choose_principal_components(X_train, 0.9)"
   ]
  },
  {
   "cell_type": "markdown",
   "metadata": {},
   "source": [
    "### <a class=\"anchor\" id=\"part2.2\"> 2.2 Downsample training data on major class  </a>"
   ]
  },
  {
   "cell_type": "code",
   "execution_count": 126,
   "metadata": {},
   "outputs": [],
   "source": [
    "def downsample_class0(X, Y, k_cluster=10, DnSamp_rate=20):\n",
    "    '''\n",
    "    INPUT\n",
    "    X - 2D dataframe for down-sampling\n",
    "    Y - 1D array of class labels(0/1) for X\n",
    "    k_cluster - k-mean cluster number \n",
    "    DnSamp_rate - down-sampling rate\n",
    "    \n",
    "    OUTPUT\n",
    "    X_DnSamp - 2D dataframe for down-sampled X\n",
    "    Y_DnSample - 1D array of class labels(0/1) for X_DnSamp\n",
    "    \n",
    "    This function performs k-mean clustering on X, and down sample class 0 in each cluster\n",
    "    \n",
    "    '''\n",
    "    # Run k_mean cluster for 10 cluster on class 0 of traning data\n",
    "    X_class0 = X[Y==0]\n",
    "    X_class1= X[Y==1]\n",
    "    print('Original Class1/Class0 = {}'.format(sum(Y==1)/sum(Y==0)))\n",
    "\n",
    "    X_class0_cluster = kmean_clustering(k_cluster, X_class0, X_class0)\n",
    "    print('K-mean clustering is done for {} clusters.'.format(k_cluster))\n",
    "\n",
    "    # Down-sample in each cluster of class 0 \n",
    "    cluster_size = X_class0_cluster.groupby('Cluster Label').count()[0]\n",
    "    X_DnSamp = pd.DataFrame()\n",
    "    for i in np.arange(k_cluster):\n",
    "        df_cluster = X_class0_cluster[X_class0_cluster['Cluster Label']==i]\n",
    "        X_DnSamp = X_DnSamp.append(df_cluster.sample(n=round(cluster_size[i]/DnSamp_rate).astype(int), \n",
    "                                                          random_state=i))\n",
    "\n",
    "    # Append class 1 data\n",
    "    X_DnSamp.drop('Cluster Label',axis=1,inplace=True)\n",
    "    num_class0 = X_DnSamp.shape[0]\n",
    "    X_DnSamp = X_DnSamp.append(X_class1)\n",
    "    # Set same column names\n",
    "    X_DnSamp.columns = X.columns\n",
    "    print('Down sampled X size: {}'.format(X_DnSamp.shape))\n",
    "\n",
    "    # Down sample Y_train\n",
    "    Y_DnSample = np.zeros(X_DnSamp.shape[0], dtype=int)\n",
    "    Y_DnSample[num_class0:] = 1\n",
    "    print('Down sampled Class1/Class0 = {}'.format(sum(Y_DnSample==1)/sum(Y_DnSample==0)))\n",
    "\n",
    "    return X_DnSamp, Y_DnSample"
   ]
  },
  {
   "cell_type": "code",
   "execution_count": 127,
   "metadata": {
    "scrolled": true
   },
   "outputs": [
    {
     "name": "stdout",
     "output_type": "stream",
     "text": [
      "Original Class1/Class0 = 0.012538298373792129\n",
      "K-mean clustering is done for 10 clusters.\n",
      "Down sampled X size: (2654, 185)\n",
      "Down sampled Class1/Class0 = 0.25070688030160226\n"
     ]
    }
   ],
   "source": [
    "X_train_pca_DnSamp, Y_train_DnSample = downsample_class0(X_train_pca, Y_train, k_cluster=10, DnSamp_rate=20)"
   ]
  },
  {
   "cell_type": "markdown",
   "metadata": {},
   "source": [
    "### <a class=\"anchor\" id=\"part2.3\"> 2.3 classify training data </a>"
   ]
  },
  {
   "cell_type": "code",
   "execution_count": 128,
   "metadata": {},
   "outputs": [
    {
     "name": "stdout",
     "output_type": "stream",
     "text": [
      "ROC score: 0.5642536402283106\n"
     ]
    },
    {
     "data": {
      "text/plain": [
       "LinearSVC(C=1.0, class_weight=None, dual=True, fit_intercept=True,\n",
       "     intercept_scaling=1, loss='squared_hinge', max_iter=1000,\n",
       "     multi_class='ovr', penalty='l2', random_state=0, tol=1e-05, verbose=0)"
      ]
     },
     "execution_count": 128,
     "metadata": {},
     "output_type": "execute_result"
    }
   ],
   "source": [
    "clf = LinearSVC(random_state=0, tol=1e-5)\n",
    "clf.fit(X_train_pca_DnSamp, Y_train_DnSample)\n",
    "yhat = clf.predict(X_train_pca)\n",
    "roc=roc_auc_score(Y_train, yhat)\n",
    "print('ROC score: {}'.format(roc))\n",
    "clf"
   ]
  },
  {
   "cell_type": "code",
   "execution_count": 67,
   "metadata": {},
   "outputs": [
    {
     "name": "stdout",
     "output_type": "stream",
     "text": [
      "ROC score: 0.5615925123910412\n"
     ]
    },
    {
     "data": {
      "text/plain": [
       "LogisticRegression(C=0.02, class_weight=None, dual=False, fit_intercept=True,\n",
       "          intercept_scaling=1, max_iter=100, multi_class='ovr', n_jobs=1,\n",
       "          penalty='l2', random_state=None, solver='sag', tol=0.0001,\n",
       "          verbose=0, warm_start=False)"
      ]
     },
     "execution_count": 67,
     "metadata": {},
     "output_type": "execute_result"
    }
   ],
   "source": [
    "LR = LogisticRegression(C=0.02, solver='sag').fit(X_train_pca_DnSamp, Y_train_DnSample)\n",
    "yhat = LR.predict(X_train_pca)\n",
    "roc=roc_auc_score(Y_train, yhat)\n",
    "print('ROC score: {}'.format(roc))\n",
    "LR"
   ]
  },
  {
   "cell_type": "code",
   "execution_count": 129,
   "metadata": {
    "scrolled": true
   },
   "outputs": [
    {
     "name": "stdout",
     "output_type": "stream",
     "text": [
      "XGBClassifier(base_score=None, booster=None, colsample_bylevel=None,\n",
      "       colsample_bynode=None, colsample_bytree=None, gamma=None,\n",
      "       gpu_id=None, importance_type='gain', interaction_constraints=None,\n",
      "       learning_rate=None, max_delta_step=None, max_depth=None,\n",
      "       min_child_weight=None, missing=nan, monotone_constraints=None,\n",
      "       n_estimators=100, n_jobs=None, num_parallel_tree=None,\n",
      "       objective='binary:logistic', random_state=None, reg_alpha=None,\n",
      "       reg_lambda=None, scale_pos_weight=None, subsample=None,\n",
      "       tree_method=None, validate_parameters=False, verbosity=0)\n",
      "ROC score: 0.9805444261135989\n"
     ]
    }
   ],
   "source": [
    "xgbr = xgb.XGBClassifier(verbosity=0) \n",
    "print(xgbr)\n",
    "# xgbr.fit(X_train_pca_DnSamp, Y_train_DnSample)\n",
    "xgbr.fit(X_train_pca_DnSamp, Y_train_DnSample)\n",
    "yhat = xgbr.predict(X_train_pca)\n",
    "# roc score\n",
    "roc = roc_auc_score(Y_train, yhat)\n",
    "print('ROC score: {}'.format(roc))\n",
    "# print(\"Training score: \", xgbr.score(X_train_pca, Y_train))\n",
    "# results = cross_val_score(xgbr, X_train_pca_DnSamp, Y_train_DnSample, cv=5)\n",
    "# print(\"Accuracy: %.2f%% (%.2f%%)\" % (results.mean()*100, results.std()*100))"
   ]
  },
  {
   "cell_type": "code",
   "execution_count": 118,
   "metadata": {},
   "outputs": [],
   "source": [
    "def plot_confusion_matrix(cm, classes,\n",
    "                          normalize=False,\n",
    "                          title='Confusion matrix',\n",
    "                          cmap=plt.cm.Blues):\n",
    "    \"\"\"\n",
    "    INPUT\n",
    "    cm - actual class in 1D array\n",
    "    classes - predicted class in 1D array\n",
    "    \n",
    "    OUTPUT\n",
    "    None\n",
    "    \n",
    "    This function prints and plots the confusion matrix.\n",
    "    Normalization can be applied by setting `normalize=True`.\n",
    "    \"\"\"\n",
    "    if normalize:\n",
    "        cm = cm.astype('float') / cm.sum(axis=1)[:, np.newaxis]\n",
    "        print(\"Normalized confusion matrix\")\n",
    "    else:\n",
    "        print('Confusion matrix, without normalization')\n",
    "\n",
    "    print(cm)\n",
    "\n",
    "    plt.imshow(cm, interpolation='nearest', cmap=cmap)\n",
    "    plt.title(title)\n",
    "    plt.colorbar()\n",
    "    tick_marks = np.arange(len(classes))\n",
    "    plt.xticks(tick_marks, classes, rotation=45)\n",
    "    plt.yticks(tick_marks, classes)\n",
    "\n",
    "    fmt = '.2f' if normalize else 'd'\n",
    "    thresh = cm.max() / 2.\n",
    "    for i, j in itertools.product(range(cm.shape[0]), range(cm.shape[1])):\n",
    "        plt.text(j, i, format(cm[i, j], fmt),\n",
    "                 horizontalalignment=\"center\",\n",
    "                 color=\"white\" if cm[i, j] > thresh else \"black\")\n",
    "\n",
    "    plt.tight_layout()\n",
    "    plt.ylabel('True label')\n",
    "    plt.xlabel('Predicted label')"
   ]
  },
  {
   "cell_type": "code",
   "execution_count": 130,
   "metadata": {},
   "outputs": [
    {
     "name": "stdout",
     "output_type": "stream",
     "text": [
      "Confusion matrix, without normalization\n",
      "[[  532     0]\n",
      " [ 1651 40779]]\n"
     ]
    },
    {
     "data": {
      "image/png": "[encoded data removed]",
      "text/plain": [
       "<matplotlib.figure.Figure at 0x7fd4d78f2a58>"
      ]
     },
     "metadata": {
      "needs_background": "light"
     },
     "output_type": "display_data"
    }
   ],
   "source": [
    "# Compute confusion matrix\n",
    "cnf_matrix = confusion_matrix(Y_train, yhat, labels=[1,0])\n",
    "np.set_printoptions(precision=2)\n",
    "\n",
    "# Plot non-normalized confusion matrix\n",
    "plt.figure()\n",
    "plot_confusion_matrix(cnf_matrix, classes=['response=1','response=0'],normalize= False,  title='Confusion matrix')"
   ]
  },
  {
   "cell_type": "code",
   "execution_count": 106,
   "metadata": {},
   "outputs": [
    {
     "name": "stdout",
     "output_type": "stream",
     "text": [
      "Training   class1: 532, class0: 42430, class1/class0: 0.01\n",
      "Prediction class1: 2183, class0: 40779, class1/class0: 0.05\n"
     ]
    },
    {
     "data": {
      "text/plain": [
       "0.93121828592709832"
      ]
     },
     "execution_count": 106,
     "metadata": {},
     "output_type": "execute_result"
    }
   ],
   "source": [
    "print('Training   class1: {}, class0: {}, class1/class0: {}'.\n",
    "      format(sum(Y_train==1),sum(Y_train==0),round(sum(Y_train==1)/sum(Y_train==0),2)))\n",
    "print('Prediction class1: {}, class0: {}, class1/class0: {}'.\n",
    "      format(sum(yhat==1),sum(yhat==0),round(sum(yhat==1)/sum(yhat==0),2)))\n",
    "score_train = clf.score(X_train_pca, Y_train)\n",
    "score_train"
   ]
  },
  {
   "cell_type": "markdown",
   "metadata": {},
   "source": [
    "### <a class=\"anchor\" id=\"part2.4\"> 2.4 Improve classifier on training data </a>"
   ]
  },
  {
   "cell_type": "code",
   "execution_count": null,
   "metadata": {},
   "outputs": [],
   "source": [
    "# Build pipeline\n",
    "pipeline = Pipeline([\n",
    "                ('xgbr', xgb.XGBClassifier(verbosity=0))\n",
    "                ])\n",
    "pipeline"
   ]
  },
  {
   "cell_type": "code",
   "execution_count": 108,
   "metadata": {},
   "outputs": [
    {
     "data": {
      "text/plain": [
       "GridSearchCV(cv=4, error_score='raise',\n",
       "       estimator=Pipeline(memory=None,\n",
       "     steps=[('xgbr', XGBClassifier(base_score=None, booster=None, colsample_bylevel=None,\n",
       "       colsample_bynode=None, colsample_bytree=None, gamma=None,\n",
       "       gpu_id=None, importance_type='gain', interaction_constraints=None,\n",
       "       learning_rate=None, max_delta_step=None, max_depth=None,\n",
       "       min_c..._pos_weight=None, subsample=None,\n",
       "       tree_method=None, validate_parameters=False, verbosity=0))]),\n",
       "       fit_params=None, iid=True, n_jobs=1,\n",
       "       param_grid={'xgbr__learning_rate': [0.01, 0.1], 'xgbr__n_estimators': [100, 500]},\n",
       "       pre_dispatch='2*n_jobs', refit=True, return_train_score='warn',\n",
       "       scoring='roc_auc', verbose=0)"
      ]
     },
     "execution_count": 108,
     "metadata": {},
     "output_type": "execute_result"
    }
   ],
   "source": [
    "# Use GridSearchCV to optimize model\n",
    "parameters = {\n",
    "     'xgbr__learning_rate': [0.01, 0.1],\n",
    "     'xgbr__n_estimators': [100, 500]\n",
    "}\n",
    "\n",
    "cv = GridSearchCV(pipeline, param_grid=parameters, scoring='roc_auc', cv=4)\n",
    "cv"
   ]
  },
  {
   "cell_type": "code",
   "execution_count": 109,
   "metadata": {},
   "outputs": [
    {
     "name": "stdout",
     "output_type": "stream",
     "text": [
      "\n",
      "Best Parameters: {'xgbr__learning_rate': 0.1, 'xgbr__n_estimators': 500}\n"
     ]
    }
   ],
   "source": [
    "cv.fit(X_train_pca_DnSamp, Y_train_DnSample)\n",
    "print(\"\\nBest Parameters:\", cv.best_params_)"
   ]
  },
  {
   "cell_type": "code",
   "execution_count": 110,
   "metadata": {},
   "outputs": [
    {
     "name": "stdout",
     "output_type": "stream",
     "text": [
      "ROC score: 0.9842446382276692\n"
     ]
    },
    {
     "data": {
      "text/plain": [
       "array([[ 0.92,  0.08],\n",
       "       [ 0.97,  0.03]], dtype=float32)"
      ]
     },
     "execution_count": 110,
     "metadata": {},
     "output_type": "execute_result"
    }
   ],
   "source": [
    "yhat = cv.predict(X_train_pca)\n",
    "# roc score\n",
    "roc=roc_auc_score(Y_train, yhat)\n",
    "print('ROC score: {}'.format(roc))\n",
    "yhat_prob = cv.predict_proba(X_train_pca)\n",
    "yhat_prob[0:2]"
   ]
  },
  {
   "cell_type": "code",
   "execution_count": 119,
   "metadata": {},
   "outputs": [
    {
     "name": "stdout",
     "output_type": "stream",
     "text": [
      "Confusion matrix, without normalization\n",
      "[[  532     0]\n",
      " [ 1337 41093]]\n"
     ]
    },
    {
     "data": {
      "image/png": "[encoded data removed]",
      "text/plain": [
       "<matplotlib.figure.Figure at 0x7fd4c3b79128>"
      ]
     },
     "metadata": {
      "needs_background": "light"
     },
     "output_type": "display_data"
    }
   ],
   "source": [
    "# Compute confusion matrix\n",
    "cnf_matrix = confusion_matrix(Y_train, yhat, labels=[1,0])\n",
    "np.set_printoptions(precision=2)\n",
    "\n",
    "\n",
    "# Plot non-normalized confusion matrix\n",
    "plt.figure()\n",
    "plot_confusion_matrix(cnf_matrix, classes=['response=1','response=0'],normalize= False,  title='Confusion matrix')"
   ]
  },
  {
   "cell_type": "code",
   "execution_count": 120,
   "metadata": {},
   "outputs": [
    {
     "name": "stdout",
     "output_type": "stream",
     "text": [
      "             precision    recall  f1-score   support\n",
      "\n",
      "          0       1.00      0.97      0.98     42430\n",
      "          1       0.28      1.00      0.44       532\n",
      "\n",
      "avg / total       0.99      0.97      0.98     42962\n",
      "\n"
     ]
    }
   ],
   "source": [
    "print (classification_report(Y_train, yhat))"
   ]
  },
  {
   "cell_type": "markdown",
   "metadata": {},
   "source": [
    "### <a class=\"anchor\" id=\"part3\"> Part 3: Kaggle Competition </a>\n",
    "\n",
    "Now that you've created a model to predict which individuals are most likely to respond to a mailout campaign, it's time to test that model in competition through Kaggle. If you click on the link [here](http://www.kaggle.com/t/21e6d45d4c574c7fa2d868f0e8c83140), you'll be taken to the competition page where, if you have a Kaggle account, you can enter. If you're one of the top performers, you may have the chance to be contacted by a hiring manager from Arvato or Bertelsmann for an interview!\n",
    "\n",
    "Your entry to the competition should be a CSV file with two columns. The first column should be a copy of \"LNR\", which acts as an ID number for each individual in the \"TEST\" partition. The second column, \"RESPONSE\", should be some measure of how likely each individual became a customer – this might not be a straightforward probability. As you should have found in Part 2, there is a large output class imbalance, where most individuals did not respond to the mailout. Thus, predicting individual classes and using accuracy does not seem to be an appropriate performance evaluation method. Instead, the competition will be using AUC to evaluate performance. The exact values of the \"RESPONSE\" column do not matter as much: only that the higher values try to capture as many of the actual customers as possible, early in the ROC curve sweep."
   ]
  },
  {
   "cell_type": "markdown",
   "metadata": {},
   "source": [
    "### <a class=\"anchor\" id=\"part3.1\"> 3.1 Prepare test data </a>"
   ]
  },
  {
   "cell_type": "code",
   "execution_count": 121,
   "metadata": {},
   "outputs": [
    {
     "name": "stdout",
     "output_type": "stream",
     "text": [
      "File loaded...\n",
      "data shape before cleaning: (42833, 366)\n",
      "NaN in numeric columns filled...\n",
      "File cleaned.\n",
      "data shape after cleaning: (42833, 437)\n"
     ]
    }
   ],
   "source": [
    "# Load and clean test data\n",
    "mailout_test = load_and_clean_data('../../data/Term2/capstone/arvato_data/Udacity_MAILOUT_052018_TEST.csv')"
   ]
  },
  {
   "cell_type": "code",
   "execution_count": 122,
   "metadata": {},
   "outputs": [],
   "source": [
    "# Perform PCA on test data as same as PCA on training data\n",
    "X_test_pca = pca.transform(mailout_test)\n",
    "X_test_pca = pd.DataFrame(X_test_pca)"
   ]
  },
  {
   "cell_type": "markdown",
   "metadata": {},
   "source": [
    "### <a class=\"anchor\" id=\"part3.2\"> 3.2 Predict test data </a>"
   ]
  },
  {
   "cell_type": "code",
   "execution_count": 137,
   "metadata": {},
   "outputs": [],
   "source": [
    "# Predict on test data\n",
    "y_test_est = cv.predict_proba(X_test_pca)\n",
    "# Save predic results to dataframe\n",
    "df_predict = pd.DataFrame(mailout_test['LNR'])\n",
    "df_predict['RESPONSE'] = y_test_est[:,1]"
   ]
  },
  {
   "cell_type": "code",
   "execution_count": 146,
   "metadata": {},
   "outputs": [
    {
     "name": "stdout",
     "output_type": "stream",
     "text": [
      "5% in the test data has \"RESPONSE\"=1.\n"
     ]
    }
   ],
   "source": [
    "print('{}% in the test data has \"RESPONSE\"=1.'.format(round(100*sum(df_predict['RESPONSE']>=0.5)/df_predict.shape[0])))"
   ]
  },
  {
   "cell_type": "code",
   "execution_count": 147,
   "metadata": {},
   "outputs": [],
   "source": [
    "df_predict.to_csv('predict_test.csv', index=False, sep=',', encoding='utf-8')"
   ]
  },
  {
   "cell_type": "code",
   "execution_count": null,
   "metadata": {},
   "outputs": [],
   "source": [
    "# Save notebook to html format, return 0 if succeed\n",
    "from subprocess import call\n",
    "call(['python', '-m', 'nbconvert', 'Arvato Project Workbook.ipynb'])"
   ]
  }
 ],
 "metadata": {
  "kernelspec": {
   "display_name": "Python 3",
   "language": "python",
   "name": "python3"
  },
  "language_info": {
   "codemirror_mode": {
    "name": "ipython",
    "version": 3
   },
   "file_extension": ".py",
   "mimetype": "text/x-python",
   "name": "python",
   "nbconvert_exporter": "python",
   "pygments_lexer": "ipython3",
   "version": "3.6.3"
  }
 },
 "nbformat": 4,
 "nbformat_minor": 2
}
